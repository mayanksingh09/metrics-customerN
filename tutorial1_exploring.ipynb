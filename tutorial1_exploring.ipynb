{
 "cells": [
  {
   "cell_type": "markdown",
   "metadata": {},
   "source": [
    "# Tutorial 1: Exploring EvalRS dataset"
   ]
  },
  {
   "cell_type": "code",
   "execution_count": 2,
   "metadata": {},
   "outputs": [],
   "source": [
    "# !git clone https://github.com/Reclist/reclist/\n",
    "# !cd reclist ; pip install -e .\n",
    "\n",
    "# !git clone https://github.com/RecList/evalRS-KDD-2023\n",
    "# !cd evalRS-KDD-2023 ; git checkout readme_kdd_2023"
   ]
  },
  {
   "cell_type": "code",
   "execution_count": null,
   "metadata": {},
   "outputs": [],
   "source": [
    "# !pip install seaborn"
   ]
  },
  {
   "cell_type": "code",
   "execution_count": 4,
   "metadata": {},
   "outputs": [],
   "source": [
    "# !which python\n",
    "# !pip install -r evalRS-KDD-2023/requirements.txt"
   ]
  },
  {
   "cell_type": "code",
   "execution_count": 1,
   "metadata": {},
   "outputs": [],
   "source": [
    "import os\n",
    "import sys\n",
    "sys.path.insert(0, 'evalRS-KDD-2023/evaluation')"
   ]
  },
  {
   "cell_type": "code",
   "execution_count": 2,
   "metadata": {},
   "outputs": [
    {
     "name": "stderr",
     "output_type": "stream",
     "text": [
      "/Users/mayanksingh/VSCodeProjects/metrics-customerN/.venv/lib/python3.9/site-packages/urllib3/__init__.py:34: NotOpenSSLWarning: urllib3 v2.0 only supports OpenSSL 1.1.1+, currently the 'ssl' module is compiled with 'LibreSSL 2.8.3'. See: https://github.com/urllib3/urllib3/issues/3020\n",
      "  warnings.warn(\n"
     ]
    }
   ],
   "source": [
    "from EvalRSRunner import ChallengeDataset\n",
    "\n",
    "import gc\n",
    "import pandas as pd\n",
    "import numpy as np\n",
    "import os\n",
    "import matplotlib.pyplot as plt\n",
    "import seaborn as sns\n",
    "import pyarrow.parquet as pq\n",
    "\n",
    "sns.set_theme(\"notebook\")"
   ]
  },
  {
   "cell_type": "code",
   "execution_count": 4,
   "metadata": {},
   "outputs": [
    {
     "name": "stdout",
     "output_type": "stream",
     "text": [
      "LFM dataset already downloaded. Skipping download.\n",
      "Loading dataset.\n",
      "Generating Train/Test Split.\n",
      "Generating dataset hashes.\n"
     ]
    }
   ],
   "source": [
    "dataset = ChallengeDataset(force_download=False)"
   ]
  },
  {
   "cell_type": "code",
   "execution_count": 5,
   "metadata": {},
   "outputs": [
    {
     "data": {
      "text/plain": [
       "((6869679, 6), (29722, 3))"
      ]
     },
     "execution_count": 5,
     "metadata": {},
     "output_type": "execute_result"
    }
   ],
   "source": [
    "train, test = dataset.get_sample_train_test()\n",
    "train.shape, test.shape"
   ]
  },
  {
   "cell_type": "code",
   "execution_count": 6,
   "metadata": {},
   "outputs": [],
   "source": [
    "# ??ChallengeDataset"
   ]
  },
  {
   "cell_type": "code",
   "execution_count": 7,
   "metadata": {},
   "outputs": [
    {
     "data": {
      "text/html": [
       "<div>\n",
       "<style scoped>\n",
       "    .dataframe tbody tr th:only-of-type {\n",
       "        vertical-align: middle;\n",
       "    }\n",
       "\n",
       "    .dataframe tbody tr th {\n",
       "        vertical-align: top;\n",
       "    }\n",
       "\n",
       "    .dataframe thead th {\n",
       "        text-align: right;\n",
       "    }\n",
       "</style>\n",
       "<table border=\"1\" class=\"dataframe\">\n",
       "  <thead>\n",
       "    <tr style=\"text-align: right;\">\n",
       "      <th></th>\n",
       "      <th>user_id</th>\n",
       "      <th>artist_id</th>\n",
       "      <th>album_id</th>\n",
       "      <th>track_id</th>\n",
       "      <th>timestamp</th>\n",
       "      <th>user_track_count</th>\n",
       "    </tr>\n",
       "  </thead>\n",
       "  <tbody>\n",
       "    <tr>\n",
       "      <th>0</th>\n",
       "      <td>50967444</td>\n",
       "      <td>3059</td>\n",
       "      <td>114114</td>\n",
       "      <td>336613</td>\n",
       "      <td>1409538054</td>\n",
       "      <td>1</td>\n",
       "    </tr>\n",
       "    <tr>\n",
       "      <th>1</th>\n",
       "      <td>50967444</td>\n",
       "      <td>3059</td>\n",
       "      <td>114114</td>\n",
       "      <td>336156</td>\n",
       "      <td>1409537916</td>\n",
       "      <td>1</td>\n",
       "    </tr>\n",
       "    <tr>\n",
       "      <th>2</th>\n",
       "      <td>50967444</td>\n",
       "      <td>3059</td>\n",
       "      <td>114114</td>\n",
       "      <td>339139</td>\n",
       "      <td>1409537712</td>\n",
       "      <td>1</td>\n",
       "    </tr>\n",
       "    <tr>\n",
       "      <th>4</th>\n",
       "      <td>50967444</td>\n",
       "      <td>677</td>\n",
       "      <td>3035</td>\n",
       "      <td>674449</td>\n",
       "      <td>1409532988</td>\n",
       "      <td>1</td>\n",
       "    </tr>\n",
       "    <tr>\n",
       "      <th>5</th>\n",
       "      <td>50967444</td>\n",
       "      <td>677</td>\n",
       "      <td>3035</td>\n",
       "      <td>639652</td>\n",
       "      <td>1409532015</td>\n",
       "      <td>1</td>\n",
       "    </tr>\n",
       "  </tbody>\n",
       "</table>\n",
       "</div>"
      ],
      "text/plain": [
       "    user_id  artist_id  album_id  track_id   timestamp  user_track_count\n",
       "0  50967444       3059    114114    336613  1409538054                 1\n",
       "1  50967444       3059    114114    336156  1409537916                 1\n",
       "2  50967444       3059    114114    339139  1409537712                 1\n",
       "4  50967444        677      3035    674449  1409532988                 1\n",
       "5  50967444        677      3035    639652  1409532015                 1"
      ]
     },
     "execution_count": 7,
     "metadata": {},
     "output_type": "execute_result"
    }
   ],
   "source": [
    "# basically interaction data. Listening events\n",
    "train.head()"
   ]
  },
  {
   "cell_type": "markdown",
   "metadata": {},
   "source": [
    "Sample evaluation loop"
   ]
  },
  {
   "cell_type": "code",
   "execution_count": 19,
   "metadata": {},
   "outputs": [],
   "source": [
    "# !cd evaluation\n",
    "# !python eval.py   "
   ]
  },
  {
   "cell_type": "code",
   "execution_count": 8,
   "metadata": {},
   "outputs": [],
   "source": [
    "# convert the timestamp in a more convenient format\n",
    "train[\"timestamp\"] = pd.to_datetime(train[\"timestamp\"], unit=\"s\")"
   ]
  },
  {
   "cell_type": "code",
   "execution_count": 9,
   "metadata": {},
   "outputs": [
    {
     "data": {
      "text/html": [
       "<div>\n",
       "<style scoped>\n",
       "    .dataframe tbody tr th:only-of-type {\n",
       "        vertical-align: middle;\n",
       "    }\n",
       "\n",
       "    .dataframe tbody tr th {\n",
       "        vertical-align: top;\n",
       "    }\n",
       "\n",
       "    .dataframe thead th {\n",
       "        text-align: right;\n",
       "    }\n",
       "</style>\n",
       "<table border=\"1\" class=\"dataframe\">\n",
       "  <thead>\n",
       "    <tr style=\"text-align: right;\">\n",
       "      <th></th>\n",
       "      <th>user_id</th>\n",
       "      <th>artist_id</th>\n",
       "      <th>album_id</th>\n",
       "      <th>track_id</th>\n",
       "      <th>timestamp</th>\n",
       "      <th>user_track_count</th>\n",
       "    </tr>\n",
       "  </thead>\n",
       "  <tbody>\n",
       "    <tr>\n",
       "      <th>0</th>\n",
       "      <td>50967444</td>\n",
       "      <td>3059</td>\n",
       "      <td>114114</td>\n",
       "      <td>336613</td>\n",
       "      <td>2014-09-01 02:20:54</td>\n",
       "      <td>1</td>\n",
       "    </tr>\n",
       "    <tr>\n",
       "      <th>1</th>\n",
       "      <td>50967444</td>\n",
       "      <td>3059</td>\n",
       "      <td>114114</td>\n",
       "      <td>336156</td>\n",
       "      <td>2014-09-01 02:18:36</td>\n",
       "      <td>1</td>\n",
       "    </tr>\n",
       "    <tr>\n",
       "      <th>2</th>\n",
       "      <td>50967444</td>\n",
       "      <td>3059</td>\n",
       "      <td>114114</td>\n",
       "      <td>339139</td>\n",
       "      <td>2014-09-01 02:15:12</td>\n",
       "      <td>1</td>\n",
       "    </tr>\n",
       "    <tr>\n",
       "      <th>4</th>\n",
       "      <td>50967444</td>\n",
       "      <td>677</td>\n",
       "      <td>3035</td>\n",
       "      <td>674449</td>\n",
       "      <td>2014-09-01 00:56:28</td>\n",
       "      <td>1</td>\n",
       "    </tr>\n",
       "    <tr>\n",
       "      <th>5</th>\n",
       "      <td>50967444</td>\n",
       "      <td>677</td>\n",
       "      <td>3035</td>\n",
       "      <td>639652</td>\n",
       "      <td>2014-09-01 00:40:15</td>\n",
       "      <td>1</td>\n",
       "    </tr>\n",
       "  </tbody>\n",
       "</table>\n",
       "</div>"
      ],
      "text/plain": [
       "    user_id  artist_id  album_id  track_id           timestamp  \\\n",
       "0  50967444       3059    114114    336613 2014-09-01 02:20:54   \n",
       "1  50967444       3059    114114    336156 2014-09-01 02:18:36   \n",
       "2  50967444       3059    114114    339139 2014-09-01 02:15:12   \n",
       "4  50967444        677      3035    674449 2014-09-01 00:56:28   \n",
       "5  50967444        677      3035    639652 2014-09-01 00:40:15   \n",
       "\n",
       "   user_track_count  \n",
       "0                 1  \n",
       "1                 1  \n",
       "2                 1  \n",
       "4                 1  \n",
       "5                 1  "
      ]
     },
     "execution_count": 9,
     "metadata": {},
     "output_type": "execute_result"
    }
   ],
   "source": [
    "train.head()"
   ]
  },
  {
   "cell_type": "code",
   "execution_count": 10,
   "metadata": {},
   "outputs": [],
   "source": [
    "# add a column for Hour Of the Day\n",
    "train[\"hod\"] = train[\"timestamp\"].dt.hour"
   ]
  },
  {
   "cell_type": "markdown",
   "metadata": {},
   "source": [
    "## EDA on tracks"
   ]
  },
  {
   "cell_type": "code",
   "execution_count": 11,
   "metadata": {},
   "outputs": [],
   "source": [
    "percentiles = np.arange(1, step=0.1)\n",
    "gb_track = train.groupby(\"track_id\")"
   ]
  },
  {
   "cell_type": "markdown",
   "metadata": {},
   "source": [
    "### What's the track distribution?"
   ]
  },
  {
   "cell_type": "code",
   "execution_count": 14,
   "metadata": {},
   "outputs": [
    {
     "data": {
      "text/plain": [
       "count    228044.000000\n",
       "mean         30.124358\n",
       "std          41.741419\n",
       "min           8.000000\n",
       "0%            8.000000\n",
       "10%          10.000000\n",
       "20%          12.000000\n",
       "30%          13.000000\n",
       "40%          15.000000\n",
       "50%          17.000000\n",
       "60%          21.000000\n",
       "70%          26.000000\n",
       "80%          36.000000\n",
       "90%          59.000000\n",
       "max        1608.000000\n",
       "dtype: float64"
      ]
     },
     "execution_count": 14,
     "metadata": {},
     "output_type": "execute_result"
    }
   ],
   "source": [
    "track_records = gb_track.size()\n",
    "# track_records.head()\n",
    "track_records.describe(percentiles=percentiles) # song listens range from 8 to 1608, median is 17"
   ]
  },
  {
   "cell_type": "code",
   "execution_count": 16,
   "metadata": {},
   "outputs": [
    {
     "data": {
      "text/plain": [
       "True"
      ]
     },
     "execution_count": 16,
     "metadata": {},
     "output_type": "execute_result"
    }
   ],
   "source": [
    "len(train.groupby([\"user_id\", \"track_id\"]).size()) == train.shape[0] # no duplicate counts at user-track level  "
   ]
  },
  {
   "cell_type": "markdown",
   "metadata": {},
   "source": [
    "user_track_count tells us the number of times a user played that particular track"
   ]
  },
  {
   "cell_type": "markdown",
   "metadata": {},
   "source": [
    "Look at the track distribution, how many users played a track"
   ]
  },
  {
   "cell_type": "code",
   "execution_count": 22,
   "metadata": {},
   "outputs": [
    {
     "data": {
      "text/plain": [
       "Text(0, 0.5, 'Number of Tracks (log)')"
      ]
     },
     "execution_count": 22,
     "metadata": {},
     "output_type": "execute_result"
    },
    {
     "data": {
      "image/png": "[encoded data removed]",
      "text/plain": [
       "<Figure size 1200x800 with 1 Axes>"
      ]
     },
     "metadata": {},
     "output_type": "display_data"
    }
   ],
   "source": [
    "fix, ax = plt.subplots(figsize=(12, 8))\n",
    "ax.hist(track_records)\n",
    "ax.set_yscale(\"log\")\n",
    "ax.set_xlabel(\"Distinct Users\")\n",
    "ax.set_ylabel(\"Number of Tracks (log)\")"
   ]
  },
  {
   "cell_type": "markdown",
   "metadata": {},
   "source": [
    "### Outlier troubleshooting"
   ]
  },
  {
   "cell_type": "code",
   "execution_count": 23,
   "metadata": {},
   "outputs": [
    {
     "data": {
      "text/html": [
       "<div>\n",
       "<style scoped>\n",
       "    .dataframe tbody tr th:only-of-type {\n",
       "        vertical-align: middle;\n",
       "    }\n",
       "\n",
       "    .dataframe tbody tr th {\n",
       "        vertical-align: top;\n",
       "    }\n",
       "\n",
       "    .dataframe thead th {\n",
       "        text-align: right;\n",
       "    }\n",
       "</style>\n",
       "<table border=\"1\" class=\"dataframe\">\n",
       "  <thead>\n",
       "    <tr style=\"text-align: right;\">\n",
       "      <th></th>\n",
       "      <th>track</th>\n",
       "      <th>artist_id</th>\n",
       "      <th>artist</th>\n",
       "      <th>albums_id</th>\n",
       "      <th>albums</th>\n",
       "      <th>urlSong</th>\n",
       "      <th>arousal_predicted</th>\n",
       "      <th>valence_predicted</th>\n",
       "      <th>lastfm_id</th>\n",
       "      <th>has_emotion_tags</th>\n",
       "      <th>has_social_tags</th>\n",
       "      <th>isClassic</th>\n",
       "      <th>distinct_user_count</th>\n",
       "    </tr>\n",
       "    <tr>\n",
       "      <th>track_id</th>\n",
       "      <th></th>\n",
       "      <th></th>\n",
       "      <th></th>\n",
       "      <th></th>\n",
       "      <th></th>\n",
       "      <th></th>\n",
       "      <th></th>\n",
       "      <th></th>\n",
       "      <th></th>\n",
       "      <th></th>\n",
       "      <th></th>\n",
       "      <th></th>\n",
       "      <th></th>\n",
       "    </tr>\n",
       "  </thead>\n",
       "  <tbody>\n",
       "    <tr>\n",
       "      <th>4868</th>\n",
       "      <td>Rolling in the Deep</td>\n",
       "      <td>504</td>\n",
       "      <td>Adele</td>\n",
       "      <td>[1518, 18942, 64876, 66600, 80986, 93573, 9761...</td>\n",
       "      <td>['21', '19', '21 (Deluxe Edition)', 'monday_pl...</td>\n",
       "      <td>http://lyrics.wikia.com/Adele:Rolling_In_The_Deep</td>\n",
       "      <td>0.390623</td>\n",
       "      <td>-0.263898</td>\n",
       "      <td>None</td>\n",
       "      <td>None</td>\n",
       "      <td>None</td>\n",
       "      <td>True</td>\n",
       "      <td>1608</td>\n",
       "    </tr>\n",
       "    <tr>\n",
       "      <th>26142</th>\n",
       "      <td>We Are Young (feat. Janelle Monáe)</td>\n",
       "      <td>3151</td>\n",
       "      <td>fun.</td>\n",
       "      <td>[6907, 9619, 53139, 162664, 238945, 246098, 27...</td>\n",
       "      <td>['Some Nights', 'We Are Young', nan, 'The Best...</td>\n",
       "      <td>None</td>\n",
       "      <td>NaN</td>\n",
       "      <td>NaN</td>\n",
       "      <td>None</td>\n",
       "      <td>None</td>\n",
       "      <td>None</td>\n",
       "      <td>None</td>\n",
       "      <td>1476</td>\n",
       "    </tr>\n",
       "    <tr>\n",
       "      <th>11393952</th>\n",
       "      <td>Somebody That I Used to Know</td>\n",
       "      <td>3085</td>\n",
       "      <td>Gotye</td>\n",
       "      <td>[20107, 33321, 90034, 103479, 107493, 158828, ...</td>\n",
       "      <td>['Making Mirrors (Deluxe Edition)', 'Somebody ...</td>\n",
       "      <td>http://lyrics.wikia.com/Gotye:Somebody_That_I_...</td>\n",
       "      <td>-0.383686</td>\n",
       "      <td>-0.720571</td>\n",
       "      <td>None</td>\n",
       "      <td>None</td>\n",
       "      <td>None</td>\n",
       "      <td>True</td>\n",
       "      <td>1376</td>\n",
       "    </tr>\n",
       "    <tr>\n",
       "      <th>16110</th>\n",
       "      <td>Get Lucky (feat. Pharrell Williams)</td>\n",
       "      <td>320</td>\n",
       "      <td>Daft Punk</td>\n",
       "      <td>[5331, 10200, 11728, 40809, 84112, 95892, 1237...</td>\n",
       "      <td>['Random Access Memories', 'Get Lucky', 'Homew...</td>\n",
       "      <td>None</td>\n",
       "      <td>NaN</td>\n",
       "      <td>NaN</td>\n",
       "      <td>None</td>\n",
       "      <td>None</td>\n",
       "      <td>None</td>\n",
       "      <td>None</td>\n",
       "      <td>1337</td>\n",
       "    </tr>\n",
       "    <tr>\n",
       "      <th>14034</th>\n",
       "      <td>We Found Love (feat. Calvin Harris)</td>\n",
       "      <td>355</td>\n",
       "      <td>Rihanna</td>\n",
       "      <td>[4961, 6808, 14253, 18206, 18254, 19802, 40014...</td>\n",
       "      <td>['We Found Love', 'The Official Uk Top 40 Sing...</td>\n",
       "      <td>None</td>\n",
       "      <td>NaN</td>\n",
       "      <td>NaN</td>\n",
       "      <td>None</td>\n",
       "      <td>None</td>\n",
       "      <td>None</td>\n",
       "      <td>None</td>\n",
       "      <td>1281</td>\n",
       "    </tr>\n",
       "    <tr>\n",
       "      <th>51176</th>\n",
       "      <td>Titanium (feat. Sia)</td>\n",
       "      <td>1935</td>\n",
       "      <td>David Guetta</td>\n",
       "      <td>[16065, 18345, 18845, 32658, 40236, 80698, 875...</td>\n",
       "      <td>['Best of...', 'Nothing but the Beat 2.0', 'No...</td>\n",
       "      <td>None</td>\n",
       "      <td>NaN</td>\n",
       "      <td>NaN</td>\n",
       "      <td>None</td>\n",
       "      <td>None</td>\n",
       "      <td>None</td>\n",
       "      <td>None</td>\n",
       "      <td>1128</td>\n",
       "    </tr>\n",
       "    <tr>\n",
       "      <th>572665</th>\n",
       "      <td>Set Fire to the Rain</td>\n",
       "      <td>504</td>\n",
       "      <td>Adele</td>\n",
       "      <td>[1518, 64876, 93573, 98525, 116649, 143113, 14...</td>\n",
       "      <td>['21', '21 (Deluxe Edition)', 'Rolling in the ...</td>\n",
       "      <td>http://lyrics.wikia.com/Adele:Set_Fire_To_The_...</td>\n",
       "      <td>-0.428821</td>\n",
       "      <td>-0.415065</td>\n",
       "      <td>None</td>\n",
       "      <td>None</td>\n",
       "      <td>None</td>\n",
       "      <td>False</td>\n",
       "      <td>1086</td>\n",
       "    </tr>\n",
       "    <tr>\n",
       "      <th>28847</th>\n",
       "      <td>Get Lucky (Radio Edit) [feat. Pharrell Williams]</td>\n",
       "      <td>320</td>\n",
       "      <td>Daft Punk</td>\n",
       "      <td>[10200, 19277, 136209, 188202, 269754, 361728,...</td>\n",
       "      <td>['Get Lucky', nan, 'Random Access Memories', '...</td>\n",
       "      <td>None</td>\n",
       "      <td>NaN</td>\n",
       "      <td>NaN</td>\n",
       "      <td>None</td>\n",
       "      <td>None</td>\n",
       "      <td>None</td>\n",
       "      <td>None</td>\n",
       "      <td>1076</td>\n",
       "    </tr>\n",
       "    <tr>\n",
       "      <th>2498</th>\n",
       "      <td>Blue Jeans</td>\n",
       "      <td>402</td>\n",
       "      <td>Lana Del Rey</td>\n",
       "      <td>[1066, 4509, 12831, 20462, 20475, 20735, 79820...</td>\n",
       "      <td>['Born to Die', 'Born to Die - The Paradise Ed...</td>\n",
       "      <td>http://lyrics.wikia.com/Lana_Del_Rey:Blue_Jeans</td>\n",
       "      <td>0.278431</td>\n",
       "      <td>-0.109800</td>\n",
       "      <td>None</td>\n",
       "      <td>None</td>\n",
       "      <td>None</td>\n",
       "      <td>False</td>\n",
       "      <td>1007</td>\n",
       "    </tr>\n",
       "    <tr>\n",
       "      <th>14775</th>\n",
       "      <td>Give Life Back to Music</td>\n",
       "      <td>320</td>\n",
       "      <td>Daft Punk</td>\n",
       "      <td>[5331, 95892, 136209, 167688, 429072, 472207, ...</td>\n",
       "      <td>['Random Access Memories', 'Random Access Memo...</td>\n",
       "      <td>http://lyrics.wikia.com/Daft_Punk:Give_Life_Ba...</td>\n",
       "      <td>0.218098</td>\n",
       "      <td>0.600940</td>\n",
       "      <td>None</td>\n",
       "      <td>None</td>\n",
       "      <td>None</td>\n",
       "      <td>False</td>\n",
       "      <td>982</td>\n",
       "    </tr>\n",
       "  </tbody>\n",
       "</table>\n",
       "</div>"
      ],
      "text/plain": [
       "                                                     track  artist_id  \\\n",
       "track_id                                                                \n",
       "4868                                   Rolling in the Deep        504   \n",
       "26142                   We Are Young (feat. Janelle Monáe)       3151   \n",
       "11393952                      Somebody That I Used to Know       3085   \n",
       "16110                  Get Lucky (feat. Pharrell Williams)        320   \n",
       "14034                  We Found Love (feat. Calvin Harris)        355   \n",
       "51176                                 Titanium (feat. Sia)       1935   \n",
       "572665                                Set Fire to the Rain        504   \n",
       "28847     Get Lucky (Radio Edit) [feat. Pharrell Williams]        320   \n",
       "2498                                            Blue Jeans        402   \n",
       "14775                              Give Life Back to Music        320   \n",
       "\n",
       "                artist                                          albums_id  \\\n",
       "track_id                                                                    \n",
       "4868             Adele  [1518, 18942, 64876, 66600, 80986, 93573, 9761...   \n",
       "26142             fun.  [6907, 9619, 53139, 162664, 238945, 246098, 27...   \n",
       "11393952         Gotye  [20107, 33321, 90034, 103479, 107493, 158828, ...   \n",
       "16110        Daft Punk  [5331, 10200, 11728, 40809, 84112, 95892, 1237...   \n",
       "14034          Rihanna  [4961, 6808, 14253, 18206, 18254, 19802, 40014...   \n",
       "51176     David Guetta  [16065, 18345, 18845, 32658, 40236, 80698, 875...   \n",
       "572665           Adele  [1518, 64876, 93573, 98525, 116649, 143113, 14...   \n",
       "28847        Daft Punk  [10200, 19277, 136209, 188202, 269754, 361728,...   \n",
       "2498      Lana Del Rey  [1066, 4509, 12831, 20462, 20475, 20735, 79820...   \n",
       "14775        Daft Punk  [5331, 95892, 136209, 167688, 429072, 472207, ...   \n",
       "\n",
       "                                                     albums  \\\n",
       "track_id                                                      \n",
       "4868      ['21', '19', '21 (Deluxe Edition)', 'monday_pl...   \n",
       "26142     ['Some Nights', 'We Are Young', nan, 'The Best...   \n",
       "11393952  ['Making Mirrors (Deluxe Edition)', 'Somebody ...   \n",
       "16110     ['Random Access Memories', 'Get Lucky', 'Homew...   \n",
       "14034     ['We Found Love', 'The Official Uk Top 40 Sing...   \n",
       "51176     ['Best of...', 'Nothing but the Beat 2.0', 'No...   \n",
       "572665    ['21', '21 (Deluxe Edition)', 'Rolling in the ...   \n",
       "28847     ['Get Lucky', nan, 'Random Access Memories', '...   \n",
       "2498      ['Born to Die', 'Born to Die - The Paradise Ed...   \n",
       "14775     ['Random Access Memories', 'Random Access Memo...   \n",
       "\n",
       "                                                    urlSong  \\\n",
       "track_id                                                      \n",
       "4868      http://lyrics.wikia.com/Adele:Rolling_In_The_Deep   \n",
       "26142                                                  None   \n",
       "11393952  http://lyrics.wikia.com/Gotye:Somebody_That_I_...   \n",
       "16110                                                  None   \n",
       "14034                                                  None   \n",
       "51176                                                  None   \n",
       "572665    http://lyrics.wikia.com/Adele:Set_Fire_To_The_...   \n",
       "28847                                                  None   \n",
       "2498        http://lyrics.wikia.com/Lana_Del_Rey:Blue_Jeans   \n",
       "14775     http://lyrics.wikia.com/Daft_Punk:Give_Life_Ba...   \n",
       "\n",
       "          arousal_predicted  valence_predicted lastfm_id has_emotion_tags  \\\n",
       "track_id                                                                    \n",
       "4868               0.390623          -0.263898      None             None   \n",
       "26142                   NaN                NaN      None             None   \n",
       "11393952          -0.383686          -0.720571      None             None   \n",
       "16110                   NaN                NaN      None             None   \n",
       "14034                   NaN                NaN      None             None   \n",
       "51176                   NaN                NaN      None             None   \n",
       "572665            -0.428821          -0.415065      None             None   \n",
       "28847                   NaN                NaN      None             None   \n",
       "2498               0.278431          -0.109800      None             None   \n",
       "14775              0.218098           0.600940      None             None   \n",
       "\n",
       "         has_social_tags isClassic  distinct_user_count  \n",
       "track_id                                                 \n",
       "4868                None      True                 1608  \n",
       "26142               None      None                 1476  \n",
       "11393952            None      True                 1376  \n",
       "16110               None      None                 1337  \n",
       "14034               None      None                 1281  \n",
       "51176               None      None                 1128  \n",
       "572665              None     False                 1086  \n",
       "28847               None      None                 1076  \n",
       "2498                None     False                 1007  \n",
       "14775               None     False                  982  "
      ]
     },
     "execution_count": 23,
     "metadata": {},
     "output_type": "execute_result"
    }
   ],
   "source": [
    "K = 10\n",
    "top_by_user = track_records.iloc[track_records.argsort().values[:-(K+1):-1]]\n",
    "top_by_user.name = \"distinct_user_count\"\n",
    "\n",
    "# Retrieve the task information from the `dataset` handler variable\n",
    "dataset.df_tracks.loc[top_by_user.index].join(top_by_user)"
   ]
  },
  {
   "cell_type": "markdown",
   "metadata": {},
   "source": [
    "These are popular songs, there are repeated entries for different versions of the same song (Get Lucky)"
   ]
  },
  {
   "cell_type": "markdown",
   "metadata": {},
   "source": [
    "### How often does a user play the same song?"
   ]
  },
  {
   "cell_type": "code",
   "execution_count": 30,
   "metadata": {},
   "outputs": [
    {
     "data": {
      "text/plain": [
       "count    228044.000000\n",
       "mean          2.552850\n",
       "std           2.512765\n",
       "min           1.000000\n",
       "0%            1.000000\n",
       "10%           1.250000\n",
       "20%           1.416667\n",
       "30%           1.583333\n",
       "40%           1.761905\n",
       "50%           1.983607\n",
       "60%           2.233987\n",
       "70%           2.596154\n",
       "80%           3.151515\n",
       "90%           4.267815\n",
       "max         261.692308\n",
       "Name: user_track_count, dtype: float64"
      ]
     },
     "execution_count": 30,
     "metadata": {},
     "output_type": "execute_result"
    }
   ],
   "source": [
    "avg_play_count = gb_track['user_track_count'].mean()\n",
    "avg_play_count.describe(percentiles) # avg times a song is heard by the same user ~2.6"
   ]
  },
  {
   "cell_type": "markdown",
   "metadata": {},
   "source": [
    "Let's observe the tail items"
   ]
  },
  {
   "cell_type": "code",
   "execution_count": 41,
   "metadata": {},
   "outputs": [
    {
     "data": {
      "text/html": [
       "<div>\n",
       "<style scoped>\n",
       "    .dataframe tbody tr th:only-of-type {\n",
       "        vertical-align: middle;\n",
       "    }\n",
       "\n",
       "    .dataframe tbody tr th {\n",
       "        vertical-align: top;\n",
       "    }\n",
       "\n",
       "    .dataframe thead th {\n",
       "        text-align: right;\n",
       "    }\n",
       "</style>\n",
       "<table border=\"1\" class=\"dataframe\">\n",
       "  <thead>\n",
       "    <tr style=\"text-align: right;\">\n",
       "      <th></th>\n",
       "      <th>track</th>\n",
       "      <th>artist_id</th>\n",
       "      <th>artist</th>\n",
       "      <th>albums_id</th>\n",
       "      <th>albums</th>\n",
       "      <th>urlSong</th>\n",
       "      <th>arousal_predicted</th>\n",
       "      <th>valence_predicted</th>\n",
       "      <th>lastfm_id</th>\n",
       "      <th>has_emotion_tags</th>\n",
       "      <th>has_social_tags</th>\n",
       "      <th>isClassic</th>\n",
       "      <th>avg_play_count</th>\n",
       "    </tr>\n",
       "    <tr>\n",
       "      <th>track_id</th>\n",
       "      <th></th>\n",
       "      <th></th>\n",
       "      <th></th>\n",
       "      <th></th>\n",
       "      <th></th>\n",
       "      <th></th>\n",
       "      <th></th>\n",
       "      <th></th>\n",
       "      <th></th>\n",
       "      <th></th>\n",
       "      <th></th>\n",
       "      <th></th>\n",
       "      <th></th>\n",
       "    </tr>\n",
       "  </thead>\n",
       "  <tbody>\n",
       "    <tr>\n",
       "      <th>176516</th>\n",
       "      <td>20.000 Miles Over the Sea</td>\n",
       "      <td>48</td>\n",
       "      <td>Enigma</td>\n",
       "      <td>[917, 60733]</td>\n",
       "      <td>['A Posteriori', 'A Posteriori (Advance)']</td>\n",
       "      <td>http://lyrics.wikia.com/Enigma:20.000_Miles_Ov...</td>\n",
       "      <td>-0.076169</td>\n",
       "      <td>-0.118055</td>\n",
       "      <td>TRXFLYS128EF3553D4</td>\n",
       "      <td>True</td>\n",
       "      <td>True</td>\n",
       "      <td>False</td>\n",
       "      <td>261.692308</td>\n",
       "    </tr>\n",
       "    <tr>\n",
       "      <th>361822</th>\n",
       "      <td>Bury Me in Vegas</td>\n",
       "      <td>14005</td>\n",
       "      <td>Eskimo Callboy</td>\n",
       "      <td>[125035]</td>\n",
       "      <td>['Bury Me in Vegas']</td>\n",
       "      <td>http://lyrics.wikia.com/Eskimo_Callboy:Bury_Me...</td>\n",
       "      <td>0.258987</td>\n",
       "      <td>-0.205667</td>\n",
       "      <td>None</td>\n",
       "      <td>None</td>\n",
       "      <td>None</td>\n",
       "      <td>False</td>\n",
       "      <td>239.464286</td>\n",
       "    </tr>\n",
       "    <tr>\n",
       "      <th>2746593</th>\n",
       "      <td>Whatever</td>\n",
       "      <td>16858</td>\n",
       "      <td>4minute</td>\n",
       "      <td>[134302, 1097460, 4794617]</td>\n",
       "      <td>['Name Is 4minute', 'Name Is 4minute', 'Name I...</td>\n",
       "      <td>None</td>\n",
       "      <td>NaN</td>\n",
       "      <td>NaN</td>\n",
       "      <td>None</td>\n",
       "      <td>None</td>\n",
       "      <td>None</td>\n",
       "      <td>None</td>\n",
       "      <td>189.600000</td>\n",
       "    </tr>\n",
       "    <tr>\n",
       "      <th>362676</th>\n",
       "      <td>Youth Gone Wild (Skid Row cover)</td>\n",
       "      <td>8988</td>\n",
       "      <td>Asking Alexandria</td>\n",
       "      <td>[84931, 118455, 125624]</td>\n",
       "      <td>['Life Gone Wild', 'Life Gone Wild EP', 'Life ...</td>\n",
       "      <td>None</td>\n",
       "      <td>NaN</td>\n",
       "      <td>NaN</td>\n",
       "      <td>None</td>\n",
       "      <td>None</td>\n",
       "      <td>None</td>\n",
       "      <td>None</td>\n",
       "      <td>175.133333</td>\n",
       "    </tr>\n",
       "    <tr>\n",
       "      <th>34135</th>\n",
       "      <td>Slow Emotion Replay</td>\n",
       "      <td>6167</td>\n",
       "      <td>The The</td>\n",
       "      <td>[12317, 67220, 233928, 319619, 319624, 339975,...</td>\n",
       "      <td>['Dusk', 'London Town 1983-1993', '45 RPM: The...</td>\n",
       "      <td>http://lyrics.wikia.com/The_The:Slow_Emotion_R...</td>\n",
       "      <td>0.122632</td>\n",
       "      <td>-0.443743</td>\n",
       "      <td>None</td>\n",
       "      <td>None</td>\n",
       "      <td>None</td>\n",
       "      <td>False</td>\n",
       "      <td>136.947368</td>\n",
       "    </tr>\n",
       "    <tr>\n",
       "      <th>177</th>\n",
       "      <td>Gravity of Love</td>\n",
       "      <td>48</td>\n",
       "      <td>Enigma</td>\n",
       "      <td>[72, 336, 1489, 10686, 60702, 195575, 195621, ...</td>\n",
       "      <td>['Love Sensuality Devotion - The Greatest Hits...</td>\n",
       "      <td>http://lyrics.wikia.com/Enigma:Gravity_Of_Love</td>\n",
       "      <td>-0.216604</td>\n",
       "      <td>0.197573</td>\n",
       "      <td>TRQSKNG128F146A48C</td>\n",
       "      <td>True</td>\n",
       "      <td>True</td>\n",
       "      <td>False</td>\n",
       "      <td>130.071429</td>\n",
       "    </tr>\n",
       "    <tr>\n",
       "      <th>840071</th>\n",
       "      <td>Going Nowhere Fast</td>\n",
       "      <td>18713</td>\n",
       "      <td>Joey Ramone</td>\n",
       "      <td>[308233, 339655, 464406, 1352501]</td>\n",
       "      <td>['ya know', '...ya know?', '...ya know?', 'Ya ...</td>\n",
       "      <td>http://lyrics.wikia.com/Joey_Ramone:Going_Nowh...</td>\n",
       "      <td>0.193137</td>\n",
       "      <td>-0.180341</td>\n",
       "      <td>None</td>\n",
       "      <td>None</td>\n",
       "      <td>None</td>\n",
       "      <td>False</td>\n",
       "      <td>129.750000</td>\n",
       "    </tr>\n",
       "    <tr>\n",
       "      <th>993722</th>\n",
       "      <td>We Believe</td>\n",
       "      <td>59718</td>\n",
       "      <td>David Cook</td>\n",
       "      <td>[185432, 345497, 3655166, 4282962]</td>\n",
       "      <td>['This Loud Morning (Deluxe Version)', 'This L...</td>\n",
       "      <td>http://lyrics.wikia.com/David_Cook:We_Believe</td>\n",
       "      <td>-0.025612</td>\n",
       "      <td>0.159226</td>\n",
       "      <td>None</td>\n",
       "      <td>None</td>\n",
       "      <td>None</td>\n",
       "      <td>False</td>\n",
       "      <td>127.100000</td>\n",
       "    </tr>\n",
       "    <tr>\n",
       "      <th>639125</th>\n",
       "      <td>Silver City</td>\n",
       "      <td>67671</td>\n",
       "      <td>Ghostland Observatory</td>\n",
       "      <td>[229029, 400187, 1467560, 9877205]</td>\n",
       "      <td>['Live at Austin City Limits Music Festival 20...</td>\n",
       "      <td>http://lyrics.wikia.com/Ghostland_Observatory:...</td>\n",
       "      <td>0.106483</td>\n",
       "      <td>0.093438</td>\n",
       "      <td>TRVGPHZ128F424E442</td>\n",
       "      <td>True</td>\n",
       "      <td>True</td>\n",
       "      <td>False</td>\n",
       "      <td>120.882353</td>\n",
       "    </tr>\n",
       "    <tr>\n",
       "      <th>841951</th>\n",
       "      <td>Talking In Your Sleep</td>\n",
       "      <td>55618</td>\n",
       "      <td>Crystal Gayle</td>\n",
       "      <td>[244060, 308877, 1699301, 1925092, 2015916, 52...</td>\n",
       "      <td>['EMI Country Masters', 'Crystal Gayle: The Hi...</td>\n",
       "      <td>http://lyrics.wikia.com/Crystal_Gayle:Talking_...</td>\n",
       "      <td>-0.334536</td>\n",
       "      <td>-0.459333</td>\n",
       "      <td>TRIBGHS128F1461861</td>\n",
       "      <td>True</td>\n",
       "      <td>True</td>\n",
       "      <td>False</td>\n",
       "      <td>120.230769</td>\n",
       "    </tr>\n",
       "  </tbody>\n",
       "</table>\n",
       "</div>"
      ],
      "text/plain": [
       "                                     track  artist_id                 artist  \\\n",
       "track_id                                                                       \n",
       "176516           20.000 Miles Over the Sea         48                 Enigma   \n",
       "361822                    Bury Me in Vegas      14005         Eskimo Callboy   \n",
       "2746593                           Whatever      16858                4minute   \n",
       "362676    Youth Gone Wild (Skid Row cover)       8988      Asking Alexandria   \n",
       "34135                  Slow Emotion Replay       6167                The The   \n",
       "177                        Gravity of Love         48                 Enigma   \n",
       "840071                  Going Nowhere Fast      18713            Joey Ramone   \n",
       "993722                          We Believe      59718             David Cook   \n",
       "639125                         Silver City      67671  Ghostland Observatory   \n",
       "841951               Talking In Your Sleep      55618          Crystal Gayle   \n",
       "\n",
       "                                                  albums_id  \\\n",
       "track_id                                                      \n",
       "176516                                         [917, 60733]   \n",
       "361822                                             [125035]   \n",
       "2746593                          [134302, 1097460, 4794617]   \n",
       "362676                              [84931, 118455, 125624]   \n",
       "34135     [12317, 67220, 233928, 319619, 319624, 339975,...   \n",
       "177       [72, 336, 1489, 10686, 60702, 195575, 195621, ...   \n",
       "840071                    [308233, 339655, 464406, 1352501]   \n",
       "993722                   [185432, 345497, 3655166, 4282962]   \n",
       "639125                   [229029, 400187, 1467560, 9877205]   \n",
       "841951    [244060, 308877, 1699301, 1925092, 2015916, 52...   \n",
       "\n",
       "                                                     albums  \\\n",
       "track_id                                                      \n",
       "176516           ['A Posteriori', 'A Posteriori (Advance)']   \n",
       "361822                                 ['Bury Me in Vegas']   \n",
       "2746593   ['Name Is 4minute', 'Name Is 4minute', 'Name I...   \n",
       "362676    ['Life Gone Wild', 'Life Gone Wild EP', 'Life ...   \n",
       "34135     ['Dusk', 'London Town 1983-1993', '45 RPM: The...   \n",
       "177       ['Love Sensuality Devotion - The Greatest Hits...   \n",
       "840071    ['ya know', '...ya know?', '...ya know?', 'Ya ...   \n",
       "993722    ['This Loud Morning (Deluxe Version)', 'This L...   \n",
       "639125    ['Live at Austin City Limits Music Festival 20...   \n",
       "841951    ['EMI Country Masters', 'Crystal Gayle: The Hi...   \n",
       "\n",
       "                                                    urlSong  \\\n",
       "track_id                                                      \n",
       "176516    http://lyrics.wikia.com/Enigma:20.000_Miles_Ov...   \n",
       "361822    http://lyrics.wikia.com/Eskimo_Callboy:Bury_Me...   \n",
       "2746593                                                None   \n",
       "362676                                                 None   \n",
       "34135     http://lyrics.wikia.com/The_The:Slow_Emotion_R...   \n",
       "177          http://lyrics.wikia.com/Enigma:Gravity_Of_Love   \n",
       "840071    http://lyrics.wikia.com/Joey_Ramone:Going_Nowh...   \n",
       "993722        http://lyrics.wikia.com/David_Cook:We_Believe   \n",
       "639125    http://lyrics.wikia.com/Ghostland_Observatory:...   \n",
       "841951    http://lyrics.wikia.com/Crystal_Gayle:Talking_...   \n",
       "\n",
       "          arousal_predicted  valence_predicted           lastfm_id  \\\n",
       "track_id                                                             \n",
       "176516            -0.076169          -0.118055  TRXFLYS128EF3553D4   \n",
       "361822             0.258987          -0.205667                None   \n",
       "2746593                 NaN                NaN                None   \n",
       "362676                  NaN                NaN                None   \n",
       "34135              0.122632          -0.443743                None   \n",
       "177               -0.216604           0.197573  TRQSKNG128F146A48C   \n",
       "840071             0.193137          -0.180341                None   \n",
       "993722            -0.025612           0.159226                None   \n",
       "639125             0.106483           0.093438  TRVGPHZ128F424E442   \n",
       "841951            -0.334536          -0.459333  TRIBGHS128F1461861   \n",
       "\n",
       "         has_emotion_tags has_social_tags isClassic  avg_play_count  \n",
       "track_id                                                             \n",
       "176516               True            True     False      261.692308  \n",
       "361822               None            None     False      239.464286  \n",
       "2746593              None            None      None      189.600000  \n",
       "362676               None            None      None      175.133333  \n",
       "34135                None            None     False      136.947368  \n",
       "177                  True            True     False      130.071429  \n",
       "840071               None            None     False      129.750000  \n",
       "993722               None            None     False      127.100000  \n",
       "639125               True            True     False      120.882353  \n",
       "841951               True            True     False      120.230769  "
      ]
     },
     "execution_count": 41,
     "metadata": {},
     "output_type": "execute_result"
    }
   ],
   "source": [
    "K = 10\n",
    "top_by_user = avg_play_count.iloc[avg_play_count.argsort().values[:-(K+1):-1]] # get the top 10 avg listen per user songs\n",
    "top_by_user.name = \"avg_play_count\"\n",
    "dataset.df_tracks.loc[top_by_user.index].join(top_by_user)"
   ]
  },
  {
   "cell_type": "markdown",
   "metadata": {},
   "source": [
    "Top-10 tracks by number of play counts (per user) is different from the top tracks by unique listeners"
   ]
  },
  {
   "cell_type": "code",
   "execution_count": 42,
   "metadata": {},
   "outputs": [],
   "source": [
    "# cleanup\n",
    "\n",
    "del gb_track\n",
    "del avg_play_count\n",
    "del track_records\n",
    "del top_by_user\n",
    "_ = gc.collect() # clears memory by running garbage collector"
   ]
  },
  {
   "cell_type": "markdown",
   "metadata": {},
   "source": [
    "## WASABI Features"
   ]
  },
  {
   "cell_type": "markdown",
   "metadata": {},
   "source": [
    "- WASABI dataset contains song metadata and human labeled features\n",
    "- Doesn't exist for all songs in the tracks dataset"
   ]
  },
  {
   "cell_type": "code",
   "execution_count": 46,
   "metadata": {},
   "outputs": [],
   "source": [
    "train_tracks = train.join(dataset.df_tracks, on=\"track_id\", rsuffix=\"_data\")"
   ]
  },
  {
   "cell_type": "code",
   "execution_count": 48,
   "metadata": {},
   "outputs": [
    {
     "data": {
      "text/html": [
       "<div>\n",
       "<style scoped>\n",
       "    .dataframe tbody tr th:only-of-type {\n",
       "        vertical-align: middle;\n",
       "    }\n",
       "\n",
       "    .dataframe tbody tr th {\n",
       "        vertical-align: top;\n",
       "    }\n",
       "\n",
       "    .dataframe thead th {\n",
       "        text-align: right;\n",
       "    }\n",
       "</style>\n",
       "<table border=\"1\" class=\"dataframe\">\n",
       "  <thead>\n",
       "    <tr style=\"text-align: right;\">\n",
       "      <th></th>\n",
       "      <th>user_id</th>\n",
       "      <th>artist_id</th>\n",
       "      <th>album_id</th>\n",
       "      <th>track_id</th>\n",
       "      <th>timestamp</th>\n",
       "      <th>user_track_count</th>\n",
       "      <th>hod</th>\n",
       "      <th>track</th>\n",
       "      <th>artist_id_data</th>\n",
       "      <th>artist</th>\n",
       "      <th>albums_id</th>\n",
       "      <th>albums</th>\n",
       "      <th>urlSong</th>\n",
       "      <th>arousal_predicted</th>\n",
       "      <th>valence_predicted</th>\n",
       "      <th>lastfm_id</th>\n",
       "      <th>has_emotion_tags</th>\n",
       "      <th>has_social_tags</th>\n",
       "      <th>isClassic</th>\n",
       "    </tr>\n",
       "  </thead>\n",
       "  <tbody>\n",
       "    <tr>\n",
       "      <th>0</th>\n",
       "      <td>50967444</td>\n",
       "      <td>3059</td>\n",
       "      <td>114114</td>\n",
       "      <td>336613</td>\n",
       "      <td>2014-09-01 02:20:54</td>\n",
       "      <td>1</td>\n",
       "      <td>2</td>\n",
       "      <td>Holland</td>\n",
       "      <td>3059</td>\n",
       "      <td>Sufjan Stevens</td>\n",
       "      <td>[114114, 150921, 200774, 223026, 285370, 28908...</td>\n",
       "      <td>['Greetings From Michigan: The Great Lakes Sta...</td>\n",
       "      <td>http://lyrics.wikia.com/Sufjan_Stevens:Holland</td>\n",
       "      <td>-0.160209</td>\n",
       "      <td>-0.154524</td>\n",
       "      <td>TRYYCFI128F427EEF5</td>\n",
       "      <td>True</td>\n",
       "      <td>True</td>\n",
       "      <td>False</td>\n",
       "    </tr>\n",
       "    <tr>\n",
       "      <th>1</th>\n",
       "      <td>50967444</td>\n",
       "      <td>3059</td>\n",
       "      <td>114114</td>\n",
       "      <td>336156</td>\n",
       "      <td>2014-09-01 02:18:36</td>\n",
       "      <td>1</td>\n",
       "      <td>2</td>\n",
       "      <td>Tahquamenon Falls</td>\n",
       "      <td>3059</td>\n",
       "      <td>Sufjan Stevens</td>\n",
       "      <td>[114114, 150921, 200774, 223026, 285370, 28908...</td>\n",
       "      <td>['Greetings From Michigan: The Great Lakes Sta...</td>\n",
       "      <td>http://lyrics.wikia.com/Sufjan_Stevens:Tahquam...</td>\n",
       "      <td>-0.076169</td>\n",
       "      <td>-0.118055</td>\n",
       "      <td>TRTSJVD128F427EEF4</td>\n",
       "      <td>True</td>\n",
       "      <td>True</td>\n",
       "      <td>False</td>\n",
       "    </tr>\n",
       "    <tr>\n",
       "      <th>2</th>\n",
       "      <td>50967444</td>\n",
       "      <td>3059</td>\n",
       "      <td>114114</td>\n",
       "      <td>339139</td>\n",
       "      <td>2014-09-01 02:15:12</td>\n",
       "      <td>1</td>\n",
       "      <td>2</td>\n",
       "      <td>The Upper Peninsula</td>\n",
       "      <td>3059</td>\n",
       "      <td>Sufjan Stevens</td>\n",
       "      <td>[114114, 150921, 200774, 223026, 285370, 28908...</td>\n",
       "      <td>['Greetings From Michigan: The Great Lakes Sta...</td>\n",
       "      <td>http://lyrics.wikia.com/Sufjan_Stevens:The_Upp...</td>\n",
       "      <td>-0.306198</td>\n",
       "      <td>-0.405807</td>\n",
       "      <td>None</td>\n",
       "      <td>None</td>\n",
       "      <td>None</td>\n",
       "      <td>False</td>\n",
       "    </tr>\n",
       "  </tbody>\n",
       "</table>\n",
       "</div>"
      ],
      "text/plain": [
       "    user_id  artist_id  album_id  track_id           timestamp  \\\n",
       "0  50967444       3059    114114    336613 2014-09-01 02:20:54   \n",
       "1  50967444       3059    114114    336156 2014-09-01 02:18:36   \n",
       "2  50967444       3059    114114    339139 2014-09-01 02:15:12   \n",
       "\n",
       "   user_track_count  hod                track  artist_id_data          artist  \\\n",
       "0                 1    2              Holland            3059  Sufjan Stevens   \n",
       "1                 1    2    Tahquamenon Falls            3059  Sufjan Stevens   \n",
       "2                 1    2  The Upper Peninsula            3059  Sufjan Stevens   \n",
       "\n",
       "                                           albums_id  \\\n",
       "0  [114114, 150921, 200774, 223026, 285370, 28908...   \n",
       "1  [114114, 150921, 200774, 223026, 285370, 28908...   \n",
       "2  [114114, 150921, 200774, 223026, 285370, 28908...   \n",
       "\n",
       "                                              albums  \\\n",
       "0  ['Greetings From Michigan: The Great Lakes Sta...   \n",
       "1  ['Greetings From Michigan: The Great Lakes Sta...   \n",
       "2  ['Greetings From Michigan: The Great Lakes Sta...   \n",
       "\n",
       "                                             urlSong  arousal_predicted  \\\n",
       "0     http://lyrics.wikia.com/Sufjan_Stevens:Holland          -0.160209   \n",
       "1  http://lyrics.wikia.com/Sufjan_Stevens:Tahquam...          -0.076169   \n",
       "2  http://lyrics.wikia.com/Sufjan_Stevens:The_Upp...          -0.306198   \n",
       "\n",
       "   valence_predicted           lastfm_id has_emotion_tags has_social_tags  \\\n",
       "0          -0.154524  TRYYCFI128F427EEF5             True            True   \n",
       "1          -0.118055  TRTSJVD128F427EEF4             True            True   \n",
       "2          -0.405807                None             None            None   \n",
       "\n",
       "  isClassic  \n",
       "0     False  \n",
       "1     False  \n",
       "2     False  "
      ]
     },
     "execution_count": 48,
     "metadata": {},
     "output_type": "execute_result"
    }
   ],
   "source": [
    "train_tracks.head(3)"
   ]
  },
  {
   "cell_type": "markdown",
   "metadata": {},
   "source": [
    "Looking at the coverage of each feature:"
   ]
  },
  {
   "cell_type": "code",
   "execution_count": 49,
   "metadata": {},
   "outputs": [
    {
     "name": "stdout",
     "output_type": "stream",
     "text": [
      "'arousal_predicted': 0.51 tracks, 0.79 events\n",
      "'valence_predicted': 0.51 tracks, 0.79 events\n",
      "'isClassic': 0.51 tracks, 0.79 events\n",
      "'has_social_tags': 0.17 tracks, 0.31 events\n",
      "'has_emotion_tags': 0.17 tracks, 0.31 events\n"
     ]
    }
   ],
   "source": [
    "for feat in ['arousal_predicted', 'valence_predicted',\n",
    "             'isClassic', 'has_social_tags', 'has_emotion_tags']:\n",
    "\n",
    "    perc_tracks = np.sum(dataset.df_tracks[feat].notna())/len(dataset.df_tracks)\n",
    "    perc_events = np.sum(train_tracks[feat].notna())/len(train_tracks)\n",
    "    print(f\"'{feat}': {round(perc_tracks,2)} tracks, {round(perc_events,2)} events\")"
   ]
  },
  {
   "cell_type": "markdown",
   "metadata": {},
   "source": [
    "Topics features coverage:"
   ]
  },
  {
   "cell_type": "code",
   "execution_count": 50,
   "metadata": {},
   "outputs": [
    {
     "data": {
      "text/plain": [
       "0.6913522451340157"
      ]
     },
     "execution_count": 50,
     "metadata": {},
     "output_type": "execute_result"
    }
   ],
   "source": [
    "train_topics = train_tracks.join(dataset.df_topics, on=\"urlSong\", rsuffix=\"_data\")\n",
    "np.sum(train_topics.topics.notna())/len(train_topics)"
   ]
  },
  {
   "cell_type": "markdown",
   "metadata": {},
   "source": [
    "Song embeddings coverage:"
   ]
  },
  {
   "cell_type": "code",
   "execution_count": 51,
   "metadata": {},
   "outputs": [
    {
     "data": {
      "text/plain": [
       "0.7797409456831972"
      ]
     },
     "execution_count": 51,
     "metadata": {},
     "output_type": "execute_result"
    }
   ],
   "source": [
    "train_embs = train_tracks.join(dataset.df_song_embeddings, on=\"urlSong\", rsuffix=\"_data\")\n",
    "np.sum(train_embs.song_embedding.notna())/len(train_embs)"
   ]
  },
  {
   "cell_type": "markdown",
   "metadata": {},
   "source": [
    "### Using Topics"
   ]
  },
  {
   "cell_type": "code",
   "execution_count": 54,
   "metadata": {},
   "outputs": [
    {
     "data": {
      "text/html": [
       "<div>\n",
       "<style scoped>\n",
       "    .dataframe tbody tr th:only-of-type {\n",
       "        vertical-align: middle;\n",
       "    }\n",
       "\n",
       "    .dataframe tbody tr th {\n",
       "        vertical-align: top;\n",
       "    }\n",
       "\n",
       "    .dataframe thead th {\n",
       "        text-align: right;\n",
       "    }\n",
       "</style>\n",
       "<table border=\"1\" class=\"dataframe\">\n",
       "  <thead>\n",
       "    <tr style=\"text-align: right;\">\n",
       "      <th></th>\n",
       "      <th>topics</th>\n",
       "    </tr>\n",
       "    <tr>\n",
       "      <th>urlSong</th>\n",
       "      <th></th>\n",
       "    </tr>\n",
       "  </thead>\n",
       "  <tbody>\n",
       "    <tr>\n",
       "      <th>http://lyrics.wikia.com/3_Doors_Down:Away_From_The_Sun</th>\n",
       "      <td>[0.022949012, 0.010859559, 0.0, 0.0, 0.0170614...</td>\n",
       "    </tr>\n",
       "    <tr>\n",
       "      <th>http://lyrics.wikia.com/3_Doors_Down:Back_To_Me</th>\n",
       "      <td>[0.010902543, 0.0, 0.0, 0.0, 0.014221805, 0.01...</td>\n",
       "    </tr>\n",
       "    <tr>\n",
       "      <th>http://lyrics.wikia.com/3_Doors_Down:Be_Like_That</th>\n",
       "      <td>[0.0, 0.0270662, 0.018602224, 0.0, 0.060051907...</td>\n",
       "    </tr>\n",
       "  </tbody>\n",
       "</table>\n",
       "</div>"
      ],
      "text/plain": [
       "                                                                                               topics\n",
       "urlSong                                                                                              \n",
       "http://lyrics.wikia.com/3_Doors_Down:Away_From_...  [0.022949012, 0.010859559, 0.0, 0.0, 0.0170614...\n",
       "http://lyrics.wikia.com/3_Doors_Down:Back_To_Me     [0.010902543, 0.0, 0.0, 0.0, 0.014221805, 0.01...\n",
       "http://lyrics.wikia.com/3_Doors_Down:Be_Like_That   [0.0, 0.0270662, 0.018602224, 0.0, 0.060051907..."
      ]
     },
     "execution_count": 54,
     "metadata": {},
     "output_type": "execute_result"
    }
   ],
   "source": [
    "dataset.df_topics.head(3)"
   ]
  },
  {
   "cell_type": "code",
   "execution_count": 59,
   "metadata": {},
   "outputs": [
    {
     "name": "stdout",
     "output_type": "stream",
     "text": [
      "http://lyrics.wikia.com/Ayreon:Space_Oddity\n",
      "http://lyrics.wikia.com/Chris_Hadfield:Space_Oddity\n",
      "http://lyrics.wikia.com/David_Bowie:Space_Oddity\n",
      "http://lyrics.wikia.com/Helloween:Space_Oddity\n",
      "http://lyrics.wikia.com/Powerman_5000:Space_Oddity\n",
      "http://lyrics.wikia.com/Tangerine_Dream:Space_Oddity\n"
     ]
    }
   ],
   "source": [
    "descr = []\n",
    "for urlSong in list(dataset.df_topics[dataset.df_topics.index.str.lower().str.contains('space_oddity')].index):\n",
    "    print(urlSong)\n",
    "    descr.append(dataset.df_topics[dataset.df_topics.index==urlSong].topics.iloc[0])"
   ]
  },
  {
   "cell_type": "code",
   "execution_count": 61,
   "metadata": {},
   "outputs": [
    {
     "data": {
      "image/png": "[encoded data removed]",
      "text/plain": [
       "<Figure size 640x480 with 1 Axes>"
      ]
     },
     "metadata": {},
     "output_type": "display_data"
    }
   ],
   "source": [
    "# basically how similar these 6 songs are across the 60 dim embedding for song topics\n",
    "# So we see the similar songs here have a similar topic embedding\n",
    "x = range(len(descr[0]))\n",
    "for d in descr:\n",
    "    plt.plot(x, d)"
   ]
  },
  {
   "cell_type": "code",
   "execution_count": 65,
   "metadata": {},
   "outputs": [
    {
     "data": {
      "text/plain": [
       "[<matplotlib.lines.Line2D at 0x1ff2afc70>]"
      ]
     },
     "execution_count": 65,
     "metadata": {},
     "output_type": "execute_result"
    },
    {
     "data": {
      "image/png": "[encoded data removed]",
      "text/plain": [
       "<Figure size 640x480 with 1 Axes>"
      ]
     },
     "metadata": {},
     "output_type": "display_data"
    }
   ],
   "source": [
    "for d in descr:\n",
    "    plt.plot(x,d)\n",
    "plt.plot(x,dataset.df_topics.topics.iloc[np.random.randint(len(dataset.df_topics))], color='k') # plotting random song in addition for comparison"
   ]
  },
  {
   "cell_type": "markdown",
   "metadata": {},
   "source": [
    "### Song embeddings"
   ]
  },
  {
   "cell_type": "markdown",
   "metadata": {},
   "source": [
    "Similar analysis with song embeddings"
   ]
  },
  {
   "cell_type": "code",
   "execution_count": 71,
   "metadata": {},
   "outputs": [
    {
     "data": {
      "text/html": [
       "<div>\n",
       "<style scoped>\n",
       "    .dataframe tbody tr th:only-of-type {\n",
       "        vertical-align: middle;\n",
       "    }\n",
       "\n",
       "    .dataframe tbody tr th {\n",
       "        vertical-align: top;\n",
       "    }\n",
       "\n",
       "    .dataframe thead th {\n",
       "        text-align: right;\n",
       "    }\n",
       "</style>\n",
       "<table border=\"1\" class=\"dataframe\">\n",
       "  <thead>\n",
       "    <tr style=\"text-align: right;\">\n",
       "      <th></th>\n",
       "      <th>song_embedding</th>\n",
       "    </tr>\n",
       "    <tr>\n",
       "      <th>urlSong</th>\n",
       "      <th></th>\n",
       "    </tr>\n",
       "  </thead>\n",
       "  <tbody>\n",
       "    <tr>\n",
       "      <th>http://lyrics.wikia.com/A:Nothing</th>\n",
       "      <td>[0.062323473, 0.011001364, 0.017321503, -0.039...</td>\n",
       "    </tr>\n",
       "    <tr>\n",
       "      <th>http://lyrics.wikia.com/A:Something%27s_Going_On</th>\n",
       "      <td>[0.05439434, 0.03371428, 0.013166547, -0.06471...</td>\n",
       "    </tr>\n",
       "    <tr>\n",
       "      <th>http://lyrics.wikia.com/A:Starbucks</th>\n",
       "      <td>[0.028431151, 0.041570004, 0.004875674, -0.036...</td>\n",
       "    </tr>\n",
       "  </tbody>\n",
       "</table>\n",
       "</div>"
      ],
      "text/plain": [
       "                                                                                     song_embedding\n",
       "urlSong                                                                                            \n",
       "http://lyrics.wikia.com/A:Nothing                 [0.062323473, 0.011001364, 0.017321503, -0.039...\n",
       "http://lyrics.wikia.com/A:Something%27s_Going_On  [0.05439434, 0.03371428, 0.013166547, -0.06471...\n",
       "http://lyrics.wikia.com/A:Starbucks               [0.028431151, 0.041570004, 0.004875674, -0.036..."
      ]
     },
     "execution_count": 71,
     "metadata": {},
     "output_type": "execute_result"
    }
   ],
   "source": [
    "dataset.df_song_embeddings.head(3)"
   ]
  },
  {
   "cell_type": "markdown",
   "metadata": {},
   "source": [
    "Song embeddings for covers of the same song"
   ]
  },
  {
   "cell_type": "code",
   "execution_count": 79,
   "metadata": {},
   "outputs": [],
   "source": [
    "def return_keyword_embeddings(song_term):\n",
    "    descr = []\n",
    "    for urlSong in list(dataset.df_song_embeddings[dataset.df_song_embeddings.index.str.lower().str.contains(song_term)].index):\n",
    "        # print(urlSong)\n",
    "        descr.append(dataset.df_song_embeddings[dataset.df_song_embeddings.index==urlSong].song_embedding.iloc[0])\n",
    "        return descr\n",
    "\n"
   ]
  },
  {
   "cell_type": "code",
   "execution_count": 108,
   "metadata": {},
   "outputs": [],
   "source": [
    "song_embds = return_keyword_embeddings('the_man_who_sold')\n",
    "\n",
    "def plot_with_random_embds(descr, random_count):\n",
    "    for i in range(random_count):\n",
    "        descr.append(dataset.df_song_embeddings.song_embedding.iloc[\n",
    "            np.random.randint(len(dataset.df_song_embeddings))])\n",
    "\n",
    "    descr = np.array(descr)\n",
    "\n",
    "    dists = np.linalg.norm(descr[:, None, :] - descr[None, :, :], axis=-1)\n",
    "    plt.imshow(dists)"
   ]
  },
  {
   "cell_type": "code",
   "execution_count": 109,
   "metadata": {},
   "outputs": [
    {
     "data": {
      "image/png": "[encoded data removed]",
      "text/plain": [
       "<Figure size 640x480 with 1 Axes>"
      ]
     },
     "metadata": {},
     "output_type": "display_data"
    }
   ],
   "source": [
    "plot_with_random_embds(song_embds, 10)"
   ]
  },
  {
   "cell_type": "code",
   "execution_count": null,
   "metadata": {},
   "outputs": [],
   "source": []
  }
 ],
 "metadata": {
  "kernelspec": {
   "display_name": ".venv",
   "language": "python",
   "name": "python3"
  },
  "language_info": {
   "codemirror_mode": {
    "name": "ipython",
    "version": 3
   },
   "file_extension": ".py",
   "mimetype": "text/x-python",
   "name": "python",
   "nbconvert_exporter": "python",
   "pygments_lexer": "ipython3",
   "version": "3.9.6"
  },
  "orig_nbformat": 4
 },
 "nbformat": 4,
 "nbformat_minor": 2
}
