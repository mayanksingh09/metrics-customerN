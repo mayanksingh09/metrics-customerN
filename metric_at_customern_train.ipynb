{
 "cells": [
  {
   "cell_type": "code",
   "execution_count": 12,
   "metadata": {},
   "outputs": [],
   "source": [
    "# ls"
   ]
  },
  {
   "cell_type": "code",
   "execution_count": 17,
   "metadata": {},
   "outputs": [],
   "source": [
    "# !git clone https://github.com/Reclist/reclist/\n",
    "# !cd reclist ; pip install -e ."
   ]
  },
  {
   "cell_type": "code",
   "execution_count": 3,
   "metadata": {},
   "outputs": [],
   "source": [
    "# !git clone https://github.com/RecList/evalRS-KDD-2023\n",
    "# !cd evalRS-KDD-2023 ; git checkout readme_kdd_2023"
   ]
  },
  {
   "cell_type": "code",
   "execution_count": 1,
   "metadata": {},
   "outputs": [],
   "source": [
    "# !which python\n",
    "# !pip install -r evalRS-KDD-2023/requirements.txt\n",
    "# !cd reclist"
   ]
  },
  {
   "cell_type": "code",
   "execution_count": 13,
   "metadata": {},
   "outputs": [],
   "source": [
    "import os\n",
    "import sys\n",
    "sys.path.insert(0, 'evalRS-KDD-2023/evaluation')"
   ]
  },
  {
   "cell_type": "code",
   "execution_count": 14,
   "metadata": {},
   "outputs": [],
   "source": [
    "import gc\n",
    "import pandas as pd\n",
    "import numpy as np\n",
    "import os\n",
    "import matplotlib.pyplot as plt\n",
    "import seaborn as sns\n",
    "import pyarrow.parquet as pq\n",
    "\n",
    "# sns.set_theme(\"notebook\")\n",
    "# Change notebook data format to be like 100.10 instead of scientific notation\n",
    "pd.options.display.float_format = '{:.2f}'.format"
   ]
  },
  {
   "cell_type": "code",
   "execution_count": 26,
   "metadata": {},
   "outputs": [],
   "source": [
    "from gensim.models import Word2Vec, KeyedVectors"
   ]
  },
  {
   "cell_type": "code",
   "execution_count": 7,
   "metadata": {},
   "outputs": [],
   "source": [
    "# !cd reclist\n",
    "# !pip install -e ."
   ]
  },
  {
   "cell_type": "code",
   "execution_count": 92,
   "metadata": {},
   "outputs": [],
   "source": [
    "# !pip install reclist"
   ]
  },
  {
   "cell_type": "code",
   "execution_count": 15,
   "metadata": {},
   "outputs": [],
   "source": [
    "from EvalRSRunner import ChallengeDataset"
   ]
  },
  {
   "cell_type": "code",
   "execution_count": 18,
   "metadata": {},
   "outputs": [],
   "source": [
    "# import os\n",
    "# import sys\n",
    "# sys.path.append(\"evalRS-KDD-2023/evaluation\")\n",
    "# from EvalRSRunner import ChallengeDataset\n",
    "# from EvalRSReclist import EvalRSReclist\n",
    "# from reclist.reclist import LOGGER, METADATA_STORE\n",
    "# from gensim.models import KeyedVectors\n",
    "# import pandas as pd\n",
    "# import numpy as np"
   ]
  },
  {
   "cell_type": "code",
   "execution_count": 17,
   "metadata": {},
   "outputs": [],
   "source": [
    "# !pip install reclist"
   ]
  },
  {
   "cell_type": "code",
   "execution_count": 19,
   "metadata": {},
   "outputs": [
    {
     "name": "stdout",
     "output_type": "stream",
     "text": [
      "LFM dataset already downloaded. Skipping download.\n",
      "Loading dataset.\n",
      "Generating Train/Test Split.\n",
      "Generating dataset hashes.\n"
     ]
    }
   ],
   "source": [
    "dataset = ChallengeDataset(force_download=False)"
   ]
  },
  {
   "cell_type": "code",
   "execution_count": 24,
   "metadata": {},
   "outputs": [
    {
     "data": {
      "text/plain": [
       "((6869679, 6), (29722, 3))"
      ]
     },
     "execution_count": 24,
     "metadata": {},
     "output_type": "execute_result"
    }
   ],
   "source": [
    "train, test = dataset.get_sample_train_test()\n",
    "train.shape, test.shape\n",
    "\n",
    "# train['train'] = 1\n",
    "# test['train'] = 0"
   ]
  },
  {
   "cell_type": "code",
   "execution_count": 30,
   "metadata": {},
   "outputs": [],
   "source": [
    "# # No point combining cause time stamp information is null so irrelevant and all the test users are present in train set. So just use customerN from train df\n",
    "\n",
    "# convert the timestamp in a more convenient format\n",
    "train[\"timestamp\"] = pd.to_datetime(train[\"timestamp\"], unit=\"s\")\n",
    "\n",
    "# A session id per customer based on a 6 hr window, if their last session was more than 6 hrs ago, then it is a new session\n",
    "train['session_id'] = train.groupby(['user_id', pd.Grouper(key='timestamp', freq='6H')]).ngroup()"
   ]
  },
  {
   "cell_type": "code",
   "execution_count": 33,
   "metadata": {},
   "outputs": [],
   "source": [
    "user_session_df = train.groupby(['user_id', 'session_id'])['track_id'].count().reset_index()\n",
    "user_session_df.columns = ['user_id', 'session_id', 'tracks_listened']\n",
    "\n",
    "\n",
    "user_summary = user_session_df.groupby('user_id').agg({'tracks_listened': np.median, 'session_id': 'nunique'})\n",
    "user_summary = user_summary.reset_index()\n",
    "user_summary.columns = ['user_id', 'customern_tracks', 'session_count']\n",
    "user_summary['customern_tracks'] = user_summary['customern_tracks'].apply(int)"
   ]
  },
  {
   "cell_type": "code",
   "execution_count": 34,
   "metadata": {},
   "outputs": [
    {
     "data": {
      "text/html": [
       "<div>\n",
       "<style scoped>\n",
       "    .dataframe tbody tr th:only-of-type {\n",
       "        vertical-align: middle;\n",
       "    }\n",
       "\n",
       "    .dataframe tbody tr th {\n",
       "        vertical-align: top;\n",
       "    }\n",
       "\n",
       "    .dataframe thead th {\n",
       "        text-align: right;\n",
       "    }\n",
       "</style>\n",
       "<table border=\"1\" class=\"dataframe\">\n",
       "  <thead>\n",
       "    <tr style=\"text-align: right;\">\n",
       "      <th></th>\n",
       "      <th>user_id</th>\n",
       "      <th>customern_tracks</th>\n",
       "      <th>session_count</th>\n",
       "    </tr>\n",
       "  </thead>\n",
       "  <tbody>\n",
       "    <tr>\n",
       "      <th>0</th>\n",
       "      <td>384</td>\n",
       "      <td>3</td>\n",
       "      <td>47</td>\n",
       "    </tr>\n",
       "    <tr>\n",
       "      <th>1</th>\n",
       "      <td>10879</td>\n",
       "      <td>6</td>\n",
       "      <td>29</td>\n",
       "    </tr>\n",
       "    <tr>\n",
       "      <th>2</th>\n",
       "      <td>12619</td>\n",
       "      <td>2</td>\n",
       "      <td>38</td>\n",
       "    </tr>\n",
       "    <tr>\n",
       "      <th>3</th>\n",
       "      <td>14308</td>\n",
       "      <td>3</td>\n",
       "      <td>39</td>\n",
       "    </tr>\n",
       "    <tr>\n",
       "      <th>4</th>\n",
       "      <td>15067</td>\n",
       "      <td>8</td>\n",
       "      <td>31</td>\n",
       "    </tr>\n",
       "  </tbody>\n",
       "</table>\n",
       "</div>"
      ],
      "text/plain": [
       "   user_id  customern_tracks  session_count\n",
       "0      384                 3             47\n",
       "1    10879                 6             29\n",
       "2    12619                 2             38\n",
       "3    14308                 3             39\n",
       "4    15067                 8             31"
      ]
     },
     "execution_count": 34,
     "metadata": {},
     "output_type": "execute_result"
    }
   ],
   "source": [
    "user_summary.head()"
   ]
  },
  {
   "cell_type": "code",
   "execution_count": 5,
   "metadata": {},
   "outputs": [],
   "source": [
    "class EvalRSSimpleModel:\n",
    "    \"\"\"\n",
    "    This is a dummy model that returns random predictions on the EvalRS dataset.\n",
    "    \"\"\"\n",
    "    def __init__(self, items: pd.DataFrame, top_k: int=10, **kwargs):\n",
    "        self.items = items\n",
    "        self.top_k = top_k\n",
    "        print(\"Received additional arguments: {}\".format(kwargs))\n",
    "\n",
    "    def predict(self, user_ids: pd.DataFrame) -> pd.DataFrame:\n",
    "        k = self.top_k\n",
    "        num_users = len(user_ids)\n",
    "        pred = self.items.sample(n=k*num_users, replace=True).index.values\n",
    "        pred = pred.reshape(num_users, k)\n",
    "        pred = np.concatenate((user_ids[['user_id']].values, pred), axis=1)\n",
    "        return pd.DataFrame(pred, columns=['user_id', *[str(i) for i in range(k)]]).set_index('user_id')"
   ]
  },
  {
   "cell_type": "code",
   "execution_count": 6,
   "metadata": {},
   "outputs": [
    {
     "name": "stdout",
     "output_type": "stream",
     "text": [
      "Received additional arguments: {}\n"
     ]
    }
   ],
   "source": [
    "# dummy model\n",
    "my_df_model = EvalRSSimpleModel(dataset.df_tracks, top_k=100)\n",
    "# get some predictions\n",
    "df_predictions = my_df_model.predict(dataset._test_set[['user_id']])"
   ]
  },
  {
   "cell_type": "code",
   "execution_count": 35,
   "metadata": {},
   "outputs": [
    {
     "data": {
      "text/html": [
       "<div>\n",
       "<style scoped>\n",
       "    .dataframe tbody tr th:only-of-type {\n",
       "        vertical-align: middle;\n",
       "    }\n",
       "\n",
       "    .dataframe tbody tr th {\n",
       "        vertical-align: top;\n",
       "    }\n",
       "\n",
       "    .dataframe thead th {\n",
       "        text-align: right;\n",
       "    }\n",
       "</style>\n",
       "<table border=\"1\" class=\"dataframe\">\n",
       "  <thead>\n",
       "    <tr style=\"text-align: right;\">\n",
       "      <th></th>\n",
       "      <th>0</th>\n",
       "      <th>1</th>\n",
       "      <th>2</th>\n",
       "      <th>3</th>\n",
       "      <th>4</th>\n",
       "      <th>5</th>\n",
       "      <th>6</th>\n",
       "      <th>7</th>\n",
       "      <th>8</th>\n",
       "      <th>9</th>\n",
       "      <th>...</th>\n",
       "      <th>90</th>\n",
       "      <th>91</th>\n",
       "      <th>92</th>\n",
       "      <th>93</th>\n",
       "      <th>94</th>\n",
       "      <th>95</th>\n",
       "      <th>96</th>\n",
       "      <th>97</th>\n",
       "      <th>98</th>\n",
       "      <th>99</th>\n",
       "    </tr>\n",
       "    <tr>\n",
       "      <th>user_id</th>\n",
       "      <th></th>\n",
       "      <th></th>\n",
       "      <th></th>\n",
       "      <th></th>\n",
       "      <th></th>\n",
       "      <th></th>\n",
       "      <th></th>\n",
       "      <th></th>\n",
       "      <th></th>\n",
       "      <th></th>\n",
       "      <th></th>\n",
       "      <th></th>\n",
       "      <th></th>\n",
       "      <th></th>\n",
       "      <th></th>\n",
       "      <th></th>\n",
       "      <th></th>\n",
       "      <th></th>\n",
       "      <th></th>\n",
       "      <th></th>\n",
       "      <th></th>\n",
       "    </tr>\n",
       "  </thead>\n",
       "  <tbody>\n",
       "    <tr>\n",
       "      <th>384</th>\n",
       "      <td>9726652</td>\n",
       "      <td>1904440</td>\n",
       "      <td>259175</td>\n",
       "      <td>29477086</td>\n",
       "      <td>31367</td>\n",
       "      <td>946816</td>\n",
       "      <td>1475219</td>\n",
       "      <td>476705</td>\n",
       "      <td>1077625</td>\n",
       "      <td>2075310</td>\n",
       "      <td>...</td>\n",
       "      <td>285156</td>\n",
       "      <td>2534828</td>\n",
       "      <td>29568301</td>\n",
       "      <td>279435</td>\n",
       "      <td>43438</td>\n",
       "      <td>265754</td>\n",
       "      <td>17716897</td>\n",
       "      <td>3547175</td>\n",
       "      <td>2296164</td>\n",
       "      <td>2369852</td>\n",
       "    </tr>\n",
       "    <tr>\n",
       "      <th>10879</th>\n",
       "      <td>1167440</td>\n",
       "      <td>257125</td>\n",
       "      <td>2005050</td>\n",
       "      <td>2140138</td>\n",
       "      <td>3564380</td>\n",
       "      <td>3183366</td>\n",
       "      <td>422202</td>\n",
       "      <td>3761697</td>\n",
       "      <td>94227</td>\n",
       "      <td>660169</td>\n",
       "      <td>...</td>\n",
       "      <td>30713646</td>\n",
       "      <td>993042</td>\n",
       "      <td>7785713</td>\n",
       "      <td>583202</td>\n",
       "      <td>582200</td>\n",
       "      <td>30149499</td>\n",
       "      <td>510261</td>\n",
       "      <td>2402779</td>\n",
       "      <td>325125</td>\n",
       "      <td>40333</td>\n",
       "    </tr>\n",
       "    <tr>\n",
       "      <th>12619</th>\n",
       "      <td>2992251</td>\n",
       "      <td>2326649</td>\n",
       "      <td>583800</td>\n",
       "      <td>1910386</td>\n",
       "      <td>2783739</td>\n",
       "      <td>335488</td>\n",
       "      <td>6345055</td>\n",
       "      <td>945144</td>\n",
       "      <td>465046</td>\n",
       "      <td>686549</td>\n",
       "      <td>...</td>\n",
       "      <td>631897</td>\n",
       "      <td>19576</td>\n",
       "      <td>3797817</td>\n",
       "      <td>743402</td>\n",
       "      <td>1755231</td>\n",
       "      <td>608758</td>\n",
       "      <td>29446802</td>\n",
       "      <td>3562272</td>\n",
       "      <td>2890121</td>\n",
       "      <td>1466287</td>\n",
       "    </tr>\n",
       "    <tr>\n",
       "      <th>14308</th>\n",
       "      <td>1312886</td>\n",
       "      <td>799433</td>\n",
       "      <td>345316</td>\n",
       "      <td>256314</td>\n",
       "      <td>1914377</td>\n",
       "      <td>2775444</td>\n",
       "      <td>7119685</td>\n",
       "      <td>1294781</td>\n",
       "      <td>2576432</td>\n",
       "      <td>3835573</td>\n",
       "      <td>...</td>\n",
       "      <td>2942912</td>\n",
       "      <td>2013887</td>\n",
       "      <td>20815588</td>\n",
       "      <td>1368696</td>\n",
       "      <td>276960</td>\n",
       "      <td>1980616</td>\n",
       "      <td>61735</td>\n",
       "      <td>262894</td>\n",
       "      <td>308338</td>\n",
       "      <td>349726</td>\n",
       "    </tr>\n",
       "    <tr>\n",
       "      <th>15067</th>\n",
       "      <td>745534</td>\n",
       "      <td>19692825</td>\n",
       "      <td>871606</td>\n",
       "      <td>1257413</td>\n",
       "      <td>2863835</td>\n",
       "      <td>1784274</td>\n",
       "      <td>1370151</td>\n",
       "      <td>2141468</td>\n",
       "      <td>692635</td>\n",
       "      <td>4276093</td>\n",
       "      <td>...</td>\n",
       "      <td>641154</td>\n",
       "      <td>789155</td>\n",
       "      <td>625017</td>\n",
       "      <td>485120</td>\n",
       "      <td>845513</td>\n",
       "      <td>2619451</td>\n",
       "      <td>483849</td>\n",
       "      <td>777193</td>\n",
       "      <td>1076182</td>\n",
       "      <td>491287</td>\n",
       "    </tr>\n",
       "  </tbody>\n",
       "</table>\n",
       "<p>5 rows × 100 columns</p>\n",
       "</div>"
      ],
      "text/plain": [
       "               0         1        2         3        4        5        6  \\\n",
       "user_id                                                                    \n",
       "384      9726652   1904440   259175  29477086    31367   946816  1475219   \n",
       "10879    1167440    257125  2005050   2140138  3564380  3183366   422202   \n",
       "12619    2992251   2326649   583800   1910386  2783739   335488  6345055   \n",
       "14308    1312886    799433   345316    256314  1914377  2775444  7119685   \n",
       "15067     745534  19692825   871606   1257413  2863835  1784274  1370151   \n",
       "\n",
       "               7        8        9  ...        90       91        92       93  \\\n",
       "user_id                             ...                                         \n",
       "384       476705  1077625  2075310  ...    285156  2534828  29568301   279435   \n",
       "10879    3761697    94227   660169  ...  30713646   993042   7785713   583202   \n",
       "12619     945144   465046   686549  ...    631897    19576   3797817   743402   \n",
       "14308    1294781  2576432  3835573  ...   2942912  2013887  20815588  1368696   \n",
       "15067    2141468   692635  4276093  ...    641154   789155    625017   485120   \n",
       "\n",
       "              94        95        96       97       98       99  \n",
       "user_id                                                          \n",
       "384        43438    265754  17716897  3547175  2296164  2369852  \n",
       "10879     582200  30149499    510261  2402779   325125    40333  \n",
       "12619    1755231    608758  29446802  3562272  2890121  1466287  \n",
       "14308     276960   1980616     61735   262894   308338   349726  \n",
       "15067     845513   2619451    483849   777193  1076182   491287  \n",
       "\n",
       "[5 rows x 100 columns]"
      ]
     },
     "execution_count": 35,
     "metadata": {},
     "output_type": "execute_result"
    }
   ],
   "source": [
    "df_predictions.head()"
   ]
  },
  {
   "cell_type": "code",
   "execution_count": 44,
   "metadata": {},
   "outputs": [],
   "source": [
    "df_predictions = df_predictions.reset_index()"
   ]
  },
  {
   "cell_type": "code",
   "execution_count": 52,
   "metadata": {},
   "outputs": [
    {
     "data": {
      "text/plain": [
       "Index(['0', '1', '2', '3', '4', '5', '6', '7', '8', '9', '10', '11', '12',\n",
       "       '13', '14', '15', '16', '17', '18', '19', '20', '21', '22', '23', '24',\n",
       "       '25', '26', '27', '28', '29', '30', '31', '32', '33', '34', '35', '36',\n",
       "       '37', '38', '39', '40', '41', '42', '43', '44', '45', '46', '47', '48',\n",
       "       '49', '50', '51', '52', '53', '54', '55', '56', '57', '58', '59', '60',\n",
       "       '61', '62', '63', '64', '65', '66', '67', '68', '69', '70', '71', '72',\n",
       "       '73', '74', '75', '76', '77', '78', '79', '80', '81', '82', '83', '84',\n",
       "       '85', '86', '87', '88', '89', '90', '91', '92', '93', '94', '95', '96',\n",
       "       '97', '98', '99'],\n",
       "      dtype='object')"
      ]
     },
     "execution_count": 52,
     "metadata": {},
     "output_type": "execute_result"
    }
   ],
   "source": [
    "df_predictions.columns[1:]"
   ]
  },
  {
   "cell_type": "code",
   "execution_count": 54,
   "metadata": {},
   "outputs": [],
   "source": [
    "# Convert from wide to long format, with user_id and impression_pos as index. Current data is columns: user_id, 0, 1, 2, 3...\n",
    "# It finally needs to be user_id, impression_pos, impression_id (currently cell value)\n",
    "\n",
    "df_predictions_long = pd.melt(df_predictions, id_vars='user_id', value_vars=df_predictions.columns[1:])\n",
    "df_predictions_long.columns = ['user_id', 'impression_pos', 'impression_id']"
   ]
  },
  {
   "cell_type": "code",
   "execution_count": 55,
   "metadata": {},
   "outputs": [
    {
     "data": {
      "text/html": [
       "<div>\n",
       "<style scoped>\n",
       "    .dataframe tbody tr th:only-of-type {\n",
       "        vertical-align: middle;\n",
       "    }\n",
       "\n",
       "    .dataframe tbody tr th {\n",
       "        vertical-align: top;\n",
       "    }\n",
       "\n",
       "    .dataframe thead th {\n",
       "        text-align: right;\n",
       "    }\n",
       "</style>\n",
       "<table border=\"1\" class=\"dataframe\">\n",
       "  <thead>\n",
       "    <tr style=\"text-align: right;\">\n",
       "      <th></th>\n",
       "      <th>user_id</th>\n",
       "      <th>impression_pos</th>\n",
       "      <th>impression_id</th>\n",
       "    </tr>\n",
       "  </thead>\n",
       "  <tbody>\n",
       "    <tr>\n",
       "      <th>0</th>\n",
       "      <td>384</td>\n",
       "      <td>0</td>\n",
       "      <td>9726652</td>\n",
       "    </tr>\n",
       "    <tr>\n",
       "      <th>1</th>\n",
       "      <td>10879</td>\n",
       "      <td>0</td>\n",
       "      <td>1167440</td>\n",
       "    </tr>\n",
       "    <tr>\n",
       "      <th>2</th>\n",
       "      <td>12619</td>\n",
       "      <td>0</td>\n",
       "      <td>2992251</td>\n",
       "    </tr>\n",
       "    <tr>\n",
       "      <th>3</th>\n",
       "      <td>14308</td>\n",
       "      <td>0</td>\n",
       "      <td>1312886</td>\n",
       "    </tr>\n",
       "    <tr>\n",
       "      <th>4</th>\n",
       "      <td>15067</td>\n",
       "      <td>0</td>\n",
       "      <td>745534</td>\n",
       "    </tr>\n",
       "  </tbody>\n",
       "</table>\n",
       "</div>"
      ],
      "text/plain": [
       "   user_id impression_pos  impression_id\n",
       "0      384              0        9726652\n",
       "1    10879              0        1167440\n",
       "2    12619              0        2992251\n",
       "3    14308              0        1312886\n",
       "4    15067              0         745534"
      ]
     },
     "execution_count": 55,
     "metadata": {},
     "output_type": "execute_result"
    }
   ],
   "source": [
    "df_predictions_long.head()"
   ]
  },
  {
   "cell_type": "code",
   "execution_count": 56,
   "metadata": {},
   "outputs": [
    {
     "data": {
      "text/html": [
       "<div>\n",
       "<style scoped>\n",
       "    .dataframe tbody tr th:only-of-type {\n",
       "        vertical-align: middle;\n",
       "    }\n",
       "\n",
       "    .dataframe tbody tr th {\n",
       "        vertical-align: top;\n",
       "    }\n",
       "\n",
       "    .dataframe thead th {\n",
       "        text-align: right;\n",
       "    }\n",
       "</style>\n",
       "<table border=\"1\" class=\"dataframe\">\n",
       "  <thead>\n",
       "    <tr style=\"text-align: right;\">\n",
       "      <th></th>\n",
       "      <th>user_id</th>\n",
       "      <th>impression_pos</th>\n",
       "      <th>impression_id</th>\n",
       "    </tr>\n",
       "  </thead>\n",
       "  <tbody>\n",
       "    <tr>\n",
       "      <th>0</th>\n",
       "      <td>384</td>\n",
       "      <td>0</td>\n",
       "      <td>9726652</td>\n",
       "    </tr>\n",
       "    <tr>\n",
       "      <th>29722</th>\n",
       "      <td>384</td>\n",
       "      <td>1</td>\n",
       "      <td>1904440</td>\n",
       "    </tr>\n",
       "    <tr>\n",
       "      <th>59444</th>\n",
       "      <td>384</td>\n",
       "      <td>2</td>\n",
       "      <td>259175</td>\n",
       "    </tr>\n",
       "    <tr>\n",
       "      <th>89166</th>\n",
       "      <td>384</td>\n",
       "      <td>3</td>\n",
       "      <td>29477086</td>\n",
       "    </tr>\n",
       "    <tr>\n",
       "      <th>118888</th>\n",
       "      <td>384</td>\n",
       "      <td>4</td>\n",
       "      <td>31367</td>\n",
       "    </tr>\n",
       "    <tr>\n",
       "      <th>...</th>\n",
       "      <td>...</td>\n",
       "      <td>...</td>\n",
       "      <td>...</td>\n",
       "    </tr>\n",
       "    <tr>\n",
       "      <th>2823590</th>\n",
       "      <td>384</td>\n",
       "      <td>95</td>\n",
       "      <td>265754</td>\n",
       "    </tr>\n",
       "    <tr>\n",
       "      <th>2853312</th>\n",
       "      <td>384</td>\n",
       "      <td>96</td>\n",
       "      <td>17716897</td>\n",
       "    </tr>\n",
       "    <tr>\n",
       "      <th>2883034</th>\n",
       "      <td>384</td>\n",
       "      <td>97</td>\n",
       "      <td>3547175</td>\n",
       "    </tr>\n",
       "    <tr>\n",
       "      <th>2912756</th>\n",
       "      <td>384</td>\n",
       "      <td>98</td>\n",
       "      <td>2296164</td>\n",
       "    </tr>\n",
       "    <tr>\n",
       "      <th>2942478</th>\n",
       "      <td>384</td>\n",
       "      <td>99</td>\n",
       "      <td>2369852</td>\n",
       "    </tr>\n",
       "  </tbody>\n",
       "</table>\n",
       "<p>100 rows × 3 columns</p>\n",
       "</div>"
      ],
      "text/plain": [
       "         user_id impression_pos  impression_id\n",
       "0            384              0        9726652\n",
       "29722        384              1        1904440\n",
       "59444        384              2         259175\n",
       "89166        384              3       29477086\n",
       "118888       384              4          31367\n",
       "...          ...            ...            ...\n",
       "2823590      384             95         265754\n",
       "2853312      384             96       17716897\n",
       "2883034      384             97        3547175\n",
       "2912756      384             98        2296164\n",
       "2942478      384             99        2369852\n",
       "\n",
       "[100 rows x 3 columns]"
      ]
     },
     "execution_count": 56,
     "metadata": {},
     "output_type": "execute_result"
    }
   ],
   "source": [
    "df_predictions_long[df_predictions_long['user_id']==384]"
   ]
  },
  {
   "cell_type": "code",
   "execution_count": 59,
   "metadata": {},
   "outputs": [],
   "source": [
    "# join with user_summary df\n",
    "df_prediction_cn = df_predictions_long.merge(user_summary, how='inner', on = ['user_id'])"
   ]
  },
  {
   "cell_type": "code",
   "execution_count": 61,
   "metadata": {},
   "outputs": [
    {
     "data": {
      "text/html": [
       "<div>\n",
       "<style scoped>\n",
       "    .dataframe tbody tr th:only-of-type {\n",
       "        vertical-align: middle;\n",
       "    }\n",
       "\n",
       "    .dataframe tbody tr th {\n",
       "        vertical-align: top;\n",
       "    }\n",
       "\n",
       "    .dataframe thead th {\n",
       "        text-align: right;\n",
       "    }\n",
       "</style>\n",
       "<table border=\"1\" class=\"dataframe\">\n",
       "  <thead>\n",
       "    <tr style=\"text-align: right;\">\n",
       "      <th></th>\n",
       "      <th>user_id</th>\n",
       "      <th>impression_pos</th>\n",
       "      <th>impression_id</th>\n",
       "      <th>customern_tracks</th>\n",
       "      <th>session_count</th>\n",
       "    </tr>\n",
       "  </thead>\n",
       "  <tbody>\n",
       "    <tr>\n",
       "      <th>0</th>\n",
       "      <td>384</td>\n",
       "      <td>0</td>\n",
       "      <td>9726652</td>\n",
       "      <td>3</td>\n",
       "      <td>47</td>\n",
       "    </tr>\n",
       "    <tr>\n",
       "      <th>1</th>\n",
       "      <td>384</td>\n",
       "      <td>1</td>\n",
       "      <td>1904440</td>\n",
       "      <td>3</td>\n",
       "      <td>47</td>\n",
       "    </tr>\n",
       "    <tr>\n",
       "      <th>2</th>\n",
       "      <td>384</td>\n",
       "      <td>2</td>\n",
       "      <td>259175</td>\n",
       "      <td>3</td>\n",
       "      <td>47</td>\n",
       "    </tr>\n",
       "    <tr>\n",
       "      <th>3</th>\n",
       "      <td>384</td>\n",
       "      <td>3</td>\n",
       "      <td>29477086</td>\n",
       "      <td>3</td>\n",
       "      <td>47</td>\n",
       "    </tr>\n",
       "    <tr>\n",
       "      <th>4</th>\n",
       "      <td>384</td>\n",
       "      <td>4</td>\n",
       "      <td>31367</td>\n",
       "      <td>3</td>\n",
       "      <td>47</td>\n",
       "    </tr>\n",
       "  </tbody>\n",
       "</table>\n",
       "</div>"
      ],
      "text/plain": [
       "   user_id impression_pos  impression_id  customern_tracks  session_count\n",
       "0      384              0        9726652                 3             47\n",
       "1      384              1        1904440                 3             47\n",
       "2      384              2         259175                 3             47\n",
       "3      384              3       29477086                 3             47\n",
       "4      384              4          31367                 3             47"
      ]
     },
     "execution_count": 61,
     "metadata": {},
     "output_type": "execute_result"
    }
   ],
   "source": [
    "df_prediction_cn.head()"
   ]
  },
  {
   "cell_type": "code",
   "execution_count": 64,
   "metadata": {},
   "outputs": [],
   "source": [
    "df_prediction_cn['impression_pos'] = df_prediction_cn['impression_pos'].astype(int)"
   ]
  },
  {
   "cell_type": "code",
   "execution_count": 65,
   "metadata": {},
   "outputs": [],
   "source": [
    "\n",
    "df_prediction_cn = df_prediction_cn[df_prediction_cn['impression_pos'] <= df_prediction_cn['customern_tracks']-1]"
   ]
  },
  {
   "cell_type": "code",
   "execution_count": 66,
   "metadata": {},
   "outputs": [
    {
     "data": {
      "text/html": [
       "<div>\n",
       "<style scoped>\n",
       "    .dataframe tbody tr th:only-of-type {\n",
       "        vertical-align: middle;\n",
       "    }\n",
       "\n",
       "    .dataframe tbody tr th {\n",
       "        vertical-align: top;\n",
       "    }\n",
       "\n",
       "    .dataframe thead th {\n",
       "        text-align: right;\n",
       "    }\n",
       "</style>\n",
       "<table border=\"1\" class=\"dataframe\">\n",
       "  <thead>\n",
       "    <tr style=\"text-align: right;\">\n",
       "      <th></th>\n",
       "      <th>user_id</th>\n",
       "      <th>impression_pos</th>\n",
       "      <th>impression_id</th>\n",
       "      <th>customern_tracks</th>\n",
       "      <th>session_count</th>\n",
       "    </tr>\n",
       "  </thead>\n",
       "  <tbody>\n",
       "    <tr>\n",
       "      <th>0</th>\n",
       "      <td>384</td>\n",
       "      <td>0</td>\n",
       "      <td>9726652</td>\n",
       "      <td>3</td>\n",
       "      <td>47</td>\n",
       "    </tr>\n",
       "    <tr>\n",
       "      <th>1</th>\n",
       "      <td>384</td>\n",
       "      <td>1</td>\n",
       "      <td>1904440</td>\n",
       "      <td>3</td>\n",
       "      <td>47</td>\n",
       "    </tr>\n",
       "    <tr>\n",
       "      <th>2</th>\n",
       "      <td>384</td>\n",
       "      <td>2</td>\n",
       "      <td>259175</td>\n",
       "      <td>3</td>\n",
       "      <td>47</td>\n",
       "    </tr>\n",
       "    <tr>\n",
       "      <th>100</th>\n",
       "      <td>10879</td>\n",
       "      <td>0</td>\n",
       "      <td>1167440</td>\n",
       "      <td>6</td>\n",
       "      <td>29</td>\n",
       "    </tr>\n",
       "    <tr>\n",
       "      <th>101</th>\n",
       "      <td>10879</td>\n",
       "      <td>1</td>\n",
       "      <td>257125</td>\n",
       "      <td>6</td>\n",
       "      <td>29</td>\n",
       "    </tr>\n",
       "  </tbody>\n",
       "</table>\n",
       "</div>"
      ],
      "text/plain": [
       "     user_id  impression_pos  impression_id  customern_tracks  session_count\n",
       "0        384               0        9726652                 3             47\n",
       "1        384               1        1904440                 3             47\n",
       "2        384               2         259175                 3             47\n",
       "100    10879               0        1167440                 6             29\n",
       "101    10879               1         257125                 6             29"
      ]
     },
     "execution_count": 66,
     "metadata": {},
     "output_type": "execute_result"
    }
   ],
   "source": [
    "df_prediction_cn.head()"
   ]
  },
  {
   "cell_type": "code",
   "execution_count": 70,
   "metadata": {},
   "outputs": [],
   "source": [
    "df_prediction_cn = df_prediction_cn[['user_id', 'impression_pos', 'impression_id']]"
   ]
  },
  {
   "cell_type": "code",
   "execution_count": 71,
   "metadata": {},
   "outputs": [
    {
     "data": {
      "text/html": [
       "<div>\n",
       "<style scoped>\n",
       "    .dataframe tbody tr th:only-of-type {\n",
       "        vertical-align: middle;\n",
       "    }\n",
       "\n",
       "    .dataframe tbody tr th {\n",
       "        vertical-align: top;\n",
       "    }\n",
       "\n",
       "    .dataframe thead th {\n",
       "        text-align: right;\n",
       "    }\n",
       "</style>\n",
       "<table border=\"1\" class=\"dataframe\">\n",
       "  <thead>\n",
       "    <tr style=\"text-align: right;\">\n",
       "      <th></th>\n",
       "      <th>user_id</th>\n",
       "      <th>impression_pos</th>\n",
       "      <th>impression_id</th>\n",
       "    </tr>\n",
       "  </thead>\n",
       "  <tbody>\n",
       "    <tr>\n",
       "      <th>0</th>\n",
       "      <td>384</td>\n",
       "      <td>0</td>\n",
       "      <td>9726652</td>\n",
       "    </tr>\n",
       "    <tr>\n",
       "      <th>1</th>\n",
       "      <td>384</td>\n",
       "      <td>1</td>\n",
       "      <td>1904440</td>\n",
       "    </tr>\n",
       "    <tr>\n",
       "      <th>2</th>\n",
       "      <td>384</td>\n",
       "      <td>2</td>\n",
       "      <td>259175</td>\n",
       "    </tr>\n",
       "    <tr>\n",
       "      <th>100</th>\n",
       "      <td>10879</td>\n",
       "      <td>0</td>\n",
       "      <td>1167440</td>\n",
       "    </tr>\n",
       "    <tr>\n",
       "      <th>101</th>\n",
       "      <td>10879</td>\n",
       "      <td>1</td>\n",
       "      <td>257125</td>\n",
       "    </tr>\n",
       "    <tr>\n",
       "      <th>...</th>\n",
       "      <td>...</td>\n",
       "      <td>...</td>\n",
       "      <td>...</td>\n",
       "    </tr>\n",
       "    <tr>\n",
       "      <th>2972101</th>\n",
       "      <td>50967444</td>\n",
       "      <td>1</td>\n",
       "      <td>2486655</td>\n",
       "    </tr>\n",
       "    <tr>\n",
       "      <th>2972102</th>\n",
       "      <td>50967444</td>\n",
       "      <td>2</td>\n",
       "      <td>5611462</td>\n",
       "    </tr>\n",
       "    <tr>\n",
       "      <th>2972103</th>\n",
       "      <td>50967444</td>\n",
       "      <td>3</td>\n",
       "      <td>29483554</td>\n",
       "    </tr>\n",
       "    <tr>\n",
       "      <th>2972104</th>\n",
       "      <td>50967444</td>\n",
       "      <td>4</td>\n",
       "      <td>97334</td>\n",
       "    </tr>\n",
       "    <tr>\n",
       "      <th>2972105</th>\n",
       "      <td>50967444</td>\n",
       "      <td>5</td>\n",
       "      <td>3060379</td>\n",
       "    </tr>\n",
       "  </tbody>\n",
       "</table>\n",
       "<p>106929 rows × 3 columns</p>\n",
       "</div>"
      ],
      "text/plain": [
       "          user_id  impression_pos  impression_id\n",
       "0             384               0        9726652\n",
       "1             384               1        1904440\n",
       "2             384               2         259175\n",
       "100         10879               0        1167440\n",
       "101         10879               1         257125\n",
       "...           ...             ...            ...\n",
       "2972101  50967444               1        2486655\n",
       "2972102  50967444               2        5611462\n",
       "2972103  50967444               3       29483554\n",
       "2972104  50967444               4          97334\n",
       "2972105  50967444               5        3060379\n",
       "\n",
       "[106929 rows x 3 columns]"
      ]
     },
     "execution_count": 71,
     "metadata": {},
     "output_type": "execute_result"
    }
   ],
   "source": [
    "df_prediction_cn"
   ]
  },
  {
   "cell_type": "code",
   "execution_count": 72,
   "metadata": {},
   "outputs": [
    {
     "name": "stderr",
     "output_type": "stream",
     "text": [
      "/var/folders/s0/bcv3d1_d5pq2s0z0zp0bw2v00000gp/T/ipykernel_12290/1384590851.py:1: SettingWithCopyWarning: \n",
      "A value is trying to be set on a copy of a slice from a DataFrame.\n",
      "Try using .loc[row_indexer,col_indexer] = value instead\n",
      "\n",
      "See the caveats in the documentation: https://pandas.pydata.org/pandas-docs/stable/user_guide/indexing.html#returning-a-view-versus-a-copy\n",
      "  df_prediction_cn['impression_pos'] = df_prediction_cn['impression_pos'].astype(str)\n"
     ]
    }
   ],
   "source": [
    "df_prediction_cn['impression_pos'] = df_prediction_cn['impression_pos'].astype(str)"
   ]
  },
  {
   "cell_type": "code",
   "execution_count": 73,
   "metadata": {},
   "outputs": [
    {
     "data": {
      "text/html": [
       "<div>\n",
       "<style scoped>\n",
       "    .dataframe tbody tr th:only-of-type {\n",
       "        vertical-align: middle;\n",
       "    }\n",
       "\n",
       "    .dataframe tbody tr th {\n",
       "        vertical-align: top;\n",
       "    }\n",
       "\n",
       "    .dataframe thead th {\n",
       "        text-align: right;\n",
       "    }\n",
       "</style>\n",
       "<table border=\"1\" class=\"dataframe\">\n",
       "  <thead>\n",
       "    <tr style=\"text-align: right;\">\n",
       "      <th></th>\n",
       "      <th>user_id</th>\n",
       "      <th>impression_pos</th>\n",
       "      <th>impression_id</th>\n",
       "    </tr>\n",
       "  </thead>\n",
       "  <tbody>\n",
       "    <tr>\n",
       "      <th>0</th>\n",
       "      <td>384</td>\n",
       "      <td>0</td>\n",
       "      <td>9726652</td>\n",
       "    </tr>\n",
       "    <tr>\n",
       "      <th>1</th>\n",
       "      <td>384</td>\n",
       "      <td>1</td>\n",
       "      <td>1904440</td>\n",
       "    </tr>\n",
       "    <tr>\n",
       "      <th>2</th>\n",
       "      <td>384</td>\n",
       "      <td>2</td>\n",
       "      <td>259175</td>\n",
       "    </tr>\n",
       "    <tr>\n",
       "      <th>100</th>\n",
       "      <td>10879</td>\n",
       "      <td>0</td>\n",
       "      <td>1167440</td>\n",
       "    </tr>\n",
       "    <tr>\n",
       "      <th>101</th>\n",
       "      <td>10879</td>\n",
       "      <td>1</td>\n",
       "      <td>257125</td>\n",
       "    </tr>\n",
       "  </tbody>\n",
       "</table>\n",
       "</div>"
      ],
      "text/plain": [
       "     user_id impression_pos  impression_id\n",
       "0        384              0        9726652\n",
       "1        384              1        1904440\n",
       "2        384              2         259175\n",
       "100    10879              0        1167440\n",
       "101    10879              1         257125"
      ]
     },
     "execution_count": 73,
     "metadata": {},
     "output_type": "execute_result"
    }
   ],
   "source": [
    "df_prediction_cn.head()"
   ]
  },
  {
   "cell_type": "code",
   "execution_count": 75,
   "metadata": {},
   "outputs": [],
   "source": [
    "df_prediction_cn = df_prediction_cn.pivot(index='user_id', columns='impression_pos', values='impression_id')"
   ]
  },
  {
   "cell_type": "code",
   "execution_count": 11,
   "metadata": {},
   "outputs": [
    {
     "ename": "NameError",
     "evalue": "name 'df_prediction_cn' is not defined",
     "output_type": "error",
     "traceback": [
      "\u001b[0;31m---------------------------------------------------------------------------\u001b[0m",
      "\u001b[0;31mNameError\u001b[0m                                 Traceback (most recent call last)",
      "Cell \u001b[0;32mIn[11], line 1\u001b[0m\n\u001b[0;32m----> 1\u001b[0m df_prediction_cn\n",
      "\u001b[0;31mNameError\u001b[0m: name 'df_prediction_cn' is not defined"
     ]
    }
   ],
   "source": [
    "df_prediction_cn"
   ]
  },
  {
   "cell_type": "code",
   "execution_count": 76,
   "metadata": {},
   "outputs": [
    {
     "ename": "NameError",
     "evalue": "name 'KeyedVectors' is not defined",
     "output_type": "error",
     "traceback": [
      "\u001b[0;31m---------------------------------------------------------------------------\u001b[0m",
      "\u001b[0;31mNameError\u001b[0m                                 Traceback (most recent call last)",
      "Cell \u001b[0;32mIn[76], line 4\u001b[0m\n\u001b[1;32m      1\u001b[0m \u001b[39m# initialize with everything\u001b[39;00m\n\u001b[1;32m      2\u001b[0m \n\u001b[1;32m      3\u001b[0m \u001b[39m# load a similarity model: here we used\u001b[39;00m\n\u001b[0;32m----> 4\u001b[0m similarity_model \u001b[39m=\u001b[39m KeyedVectors\u001b[39m.\u001b[39mload(os\u001b[39m.\u001b[39mpath\u001b[39m.\u001b[39mjoin(dataset\u001b[39m.\u001b[39mpath_to_dataset, \u001b[39m'\u001b[39m\u001b[39msong2vec.wv\u001b[39m\u001b[39m'\u001b[39m))\n\u001b[1;32m      6\u001b[0m \u001b[39m# initialize with everything\u001b[39;00m\n\u001b[1;32m      7\u001b[0m cdf \u001b[39m=\u001b[39m EvalRSReclist(\n\u001b[1;32m      8\u001b[0m     dataset\u001b[39m=\u001b[39mdataset,\n\u001b[1;32m      9\u001b[0m     model_name\u001b[39m=\u001b[39m\u001b[39m\"\u001b[39m\u001b[39mSimpleModel\u001b[39m\u001b[39m\"\u001b[39m,\n\u001b[0;32m   (...)\u001b[0m\n\u001b[1;32m     13\u001b[0m     similarity_model\u001b[39m=\u001b[39msimilarity_model,\n\u001b[1;32m     14\u001b[0m )\n",
      "\u001b[0;31mNameError\u001b[0m: name 'KeyedVectors' is not defined"
     ]
    }
   ],
   "source": [
    "# initialize with everything\n",
    "\n",
    "# load a similarity model: here we used\n",
    "similarity_model = KeyedVectors.load(os.path.join(dataset.path_to_dataset, 'song2vec.wv'))\n",
    "\n",
    "# initialize with everything\n",
    "cdf = EvalRSReclist(\n",
    "    dataset=dataset,\n",
    "    model_name=\"SimpleModel\",\n",
    "    predictions=df_predictions,\n",
    "    logger=LOGGER.LOCAL,\n",
    "    metadata_store=METADATA_STORE.LOCAL,\n",
    "    similarity_model=similarity_model,\n",
    ")\n",
    "\n",
    "# run reclist\n",
    "cdf(verbose=True)"
   ]
  },
  {
   "cell_type": "markdown",
   "metadata": {},
   "source": [
    "## CBOW model"
   ]
  },
  {
   "cell_type": "code",
   "execution_count": 20,
   "metadata": {},
   "outputs": [],
   "source": [
    "class CBOWRecSys:\n",
    "\n",
    "    def __init__(self, top_k: int=100):\n",
    "        super(CBOWRecSys, self).__init__()\n",
    "        \"\"\"\n",
    "        :param top_k: numbers of recommendation to return for each user. Defaults to 20.\n",
    "        \"\"\"\n",
    "        self.top_k = top_k\n",
    "        self.mappings = None\n",
    "\n",
    "    def train(self, train_df: pd.DataFrame, **kwargs):\n",
    "        print(\"Training model\")\n",
    "\n",
    "        # let's put tracks in order\n",
    "        df = train_df[['user_id', 'track_id', 'timestamp']].sort_values('timestamp')\n",
    "\n",
    "        # we group by user and create sequences of tracks\n",
    "        p = df.groupby('user_id', sort=False)['track_id'].agg(list)\n",
    "\n",
    "        # we now build \"sentences\" : sequences of tracks\n",
    "        sentences = p.values.tolist()\n",
    "\n",
    "        # train word2vec:\n",
    "        # large window and small vector size...lots of epochs\n",
    "        self.mymodel = Word2Vec(sentences, min_count=0, vector_size=20, window=40, epochs=5)\n",
    "\n",
    "        user_tracks = pd.DataFrame(p)\n",
    "\n",
    "        # we sample 10 songs for each user\n",
    "        user_tracks[\"track_id_sampled\"] = user_tracks[\"track_id\"].apply(lambda x : random.choices(x, k=40))\n",
    "\n",
    "        self.mappings = user_tracks.T.to_dict()\n",
    "\n",
    "    def predict(self, user_ids: pd.DataFrame) -> pd.DataFrame:\n",
    "        \"\"\"\n",
    "\n",
    "        This function takes as input all the users that we want to predict the top-k items for, and\n",
    "        returns all the predicted songs.\n",
    "\n",
    "        While in this example is just a random generator, the same logic in your implementation\n",
    "        would allow for batch predictions of all the target data points.\n",
    "\n",
    "        \"\"\"\n",
    "        user_ids = user_ids.copy()\n",
    "        k = self.top_k\n",
    "\n",
    "\n",
    "        pbar = tqdm(total=len(user_ids), position=0)\n",
    "\n",
    "        predictions = []\n",
    "        for user in user_ids[\"user_id\"]:\n",
    "            user_tracks = self.mappings[user][\"track_id_sampled\"]\n",
    "            get_user_embedding = np.mean([self.mymodel.wv[t] for t in user_tracks], axis=0)\n",
    "\n",
    "            # we need to filter out stuff from the user history. We don't want to suggest to the user something they\n",
    "            # have already listened to\n",
    "            max_number_of_returned_items = len(self.mappings[user][\"track_id\"]) + self.top_k\n",
    "\n",
    "            user_predictions = [k[0] for k in self.mymodel.wv.most_similar(positive=[get_user_embedding], topn=max_number_of_returned_items)]\n",
    "            user_predictions = list(filter(lambda x: x not in self.mappings[user][\"track_id\"], user_predictions))[0:self.top_k]\n",
    "\n",
    "            predictions.append(user_predictions)\n",
    "\n",
    "            pbar.update(1)\n",
    "        pbar.close()\n",
    "\n",
    "        # lil trick to reconstruct a dataframe that has user ids as index and the predictions as columns\n",
    "        # This is a very important part! consistency in how you return the results is fundamental for the evaluation\n",
    "\n",
    "        users = user_ids[\"user_id\"].values.reshape(-1, 1)\n",
    "        predictions = np.concatenate([users, np.array(predictions)], axis=1)\n",
    "        return pd.DataFrame(predictions, columns=['user_id', *[str(i) for i in range(k)]]).set_index('user_id')"
   ]
  },
  {
   "cell_type": "code",
   "execution_count": 21,
   "metadata": {},
   "outputs": [],
   "source": [
    "# instantiate this\n",
    "cbow_recsys = CBOWRecSys()"
   ]
  },
  {
   "cell_type": "code",
   "execution_count": 27,
   "metadata": {},
   "outputs": [
    {
     "name": "stdout",
     "output_type": "stream",
     "text": [
      "Training model\n"
     ]
    },
    {
     "ename": "NameError",
     "evalue": "name 'random' is not defined",
     "output_type": "error",
     "traceback": [
      "\u001b[0;31m---------------------------------------------------------------------------\u001b[0m",
      "\u001b[0;31mNameError\u001b[0m                                 Traceback (most recent call last)",
      "File \u001b[0;32m<timed eval>:1\u001b[0m\n",
      "Cell \u001b[0;32mIn[20], line 30\u001b[0m, in \u001b[0;36mCBOWRecSys.train\u001b[0;34m(self, train_df, **kwargs)\u001b[0m\n\u001b[1;32m     27\u001b[0m user_tracks \u001b[39m=\u001b[39m pd\u001b[39m.\u001b[39mDataFrame(p)\n\u001b[1;32m     29\u001b[0m \u001b[39m# we sample 10 songs for each user\u001b[39;00m\n\u001b[0;32m---> 30\u001b[0m user_tracks[\u001b[39m\"\u001b[39m\u001b[39mtrack_id_sampled\u001b[39m\u001b[39m\"\u001b[39m] \u001b[39m=\u001b[39m user_tracks[\u001b[39m\"\u001b[39;49m\u001b[39mtrack_id\u001b[39;49m\u001b[39m\"\u001b[39;49m]\u001b[39m.\u001b[39;49mapply(\u001b[39mlambda\u001b[39;49;00m x : random\u001b[39m.\u001b[39;49mchoices(x, k\u001b[39m=\u001b[39;49m\u001b[39m40\u001b[39;49m))\n\u001b[1;32m     32\u001b[0m \u001b[39mself\u001b[39m\u001b[39m.\u001b[39mmappings \u001b[39m=\u001b[39m user_tracks\u001b[39m.\u001b[39mT\u001b[39m.\u001b[39mto_dict()\n",
      "File \u001b[0;32m~/VSCodeProjects/metrics-customerN/.venv/lib/python3.9/site-packages/pandas/core/series.py:4630\u001b[0m, in \u001b[0;36mSeries.apply\u001b[0;34m(self, func, convert_dtype, args, **kwargs)\u001b[0m\n\u001b[1;32m   4520\u001b[0m \u001b[39mdef\u001b[39;00m \u001b[39mapply\u001b[39m(\n\u001b[1;32m   4521\u001b[0m     \u001b[39mself\u001b[39m,\n\u001b[1;32m   4522\u001b[0m     func: AggFuncType,\n\u001b[0;32m   (...)\u001b[0m\n\u001b[1;32m   4525\u001b[0m     \u001b[39m*\u001b[39m\u001b[39m*\u001b[39mkwargs,\n\u001b[1;32m   4526\u001b[0m ) \u001b[39m-\u001b[39m\u001b[39m>\u001b[39m DataFrame \u001b[39m|\u001b[39m Series:\n\u001b[1;32m   4527\u001b[0m \u001b[39m    \u001b[39m\u001b[39m\"\"\"\u001b[39;00m\n\u001b[1;32m   4528\u001b[0m \u001b[39m    Invoke function on values of Series.\u001b[39;00m\n\u001b[1;32m   4529\u001b[0m \n\u001b[0;32m   (...)\u001b[0m\n\u001b[1;32m   4628\u001b[0m \u001b[39m    dtype: float64\u001b[39;00m\n\u001b[1;32m   4629\u001b[0m \u001b[39m    \"\"\"\u001b[39;00m\n\u001b[0;32m-> 4630\u001b[0m     \u001b[39mreturn\u001b[39;00m SeriesApply(\u001b[39mself\u001b[39;49m, func, convert_dtype, args, kwargs)\u001b[39m.\u001b[39;49mapply()\n",
      "File \u001b[0;32m~/VSCodeProjects/metrics-customerN/.venv/lib/python3.9/site-packages/pandas/core/apply.py:1025\u001b[0m, in \u001b[0;36mSeriesApply.apply\u001b[0;34m(self)\u001b[0m\n\u001b[1;32m   1022\u001b[0m     \u001b[39mreturn\u001b[39;00m \u001b[39mself\u001b[39m\u001b[39m.\u001b[39mapply_str()\n\u001b[1;32m   1024\u001b[0m \u001b[39m# self.f is Callable\u001b[39;00m\n\u001b[0;32m-> 1025\u001b[0m \u001b[39mreturn\u001b[39;00m \u001b[39mself\u001b[39;49m\u001b[39m.\u001b[39;49mapply_standard()\n",
      "File \u001b[0;32m~/VSCodeProjects/metrics-customerN/.venv/lib/python3.9/site-packages/pandas/core/apply.py:1076\u001b[0m, in \u001b[0;36mSeriesApply.apply_standard\u001b[0;34m(self)\u001b[0m\n\u001b[1;32m   1074\u001b[0m     \u001b[39melse\u001b[39;00m:\n\u001b[1;32m   1075\u001b[0m         values \u001b[39m=\u001b[39m obj\u001b[39m.\u001b[39mastype(\u001b[39mobject\u001b[39m)\u001b[39m.\u001b[39m_values\n\u001b[0;32m-> 1076\u001b[0m         mapped \u001b[39m=\u001b[39m lib\u001b[39m.\u001b[39;49mmap_infer(\n\u001b[1;32m   1077\u001b[0m             values,\n\u001b[1;32m   1078\u001b[0m             f,\n\u001b[1;32m   1079\u001b[0m             convert\u001b[39m=\u001b[39;49m\u001b[39mself\u001b[39;49m\u001b[39m.\u001b[39;49mconvert_dtype,\n\u001b[1;32m   1080\u001b[0m         )\n\u001b[1;32m   1082\u001b[0m \u001b[39mif\u001b[39;00m \u001b[39mlen\u001b[39m(mapped) \u001b[39mand\u001b[39;00m \u001b[39misinstance\u001b[39m(mapped[\u001b[39m0\u001b[39m], ABCSeries):\n\u001b[1;32m   1083\u001b[0m     \u001b[39m# GH#43986 Need to do list(mapped) in order to get treated as nested\u001b[39;00m\n\u001b[1;32m   1084\u001b[0m     \u001b[39m#  See also GH#25959 regarding EA support\u001b[39;00m\n\u001b[1;32m   1085\u001b[0m     \u001b[39mreturn\u001b[39;00m obj\u001b[39m.\u001b[39m_constructor_expanddim(\u001b[39mlist\u001b[39m(mapped), index\u001b[39m=\u001b[39mobj\u001b[39m.\u001b[39mindex)\n",
      "File \u001b[0;32m~/VSCodeProjects/metrics-customerN/.venv/lib/python3.9/site-packages/pandas/_libs/lib.pyx:2834\u001b[0m, in \u001b[0;36mpandas._libs.lib.map_infer\u001b[0;34m()\u001b[0m\n",
      "Cell \u001b[0;32mIn[20], line 30\u001b[0m, in \u001b[0;36mCBOWRecSys.train.<locals>.<lambda>\u001b[0;34m(x)\u001b[0m\n\u001b[1;32m     27\u001b[0m user_tracks \u001b[39m=\u001b[39m pd\u001b[39m.\u001b[39mDataFrame(p)\n\u001b[1;32m     29\u001b[0m \u001b[39m# we sample 10 songs for each user\u001b[39;00m\n\u001b[0;32m---> 30\u001b[0m user_tracks[\u001b[39m\"\u001b[39m\u001b[39mtrack_id_sampled\u001b[39m\u001b[39m\"\u001b[39m] \u001b[39m=\u001b[39m user_tracks[\u001b[39m\"\u001b[39m\u001b[39mtrack_id\u001b[39m\u001b[39m\"\u001b[39m]\u001b[39m.\u001b[39mapply(\u001b[39mlambda\u001b[39;00m x : random\u001b[39m.\u001b[39mchoices(x, k\u001b[39m=\u001b[39m\u001b[39m40\u001b[39m))\n\u001b[1;32m     32\u001b[0m \u001b[39mself\u001b[39m\u001b[39m.\u001b[39mmappings \u001b[39m=\u001b[39m user_tracks\u001b[39m.\u001b[39mT\u001b[39m.\u001b[39mto_dict()\n",
      "\u001b[0;31mNameError\u001b[0m: name 'random' is not defined"
     ]
    }
   ],
   "source": [
    "%%time\n",
    "cbow_recsys.train(train)"
   ]
  },
  {
   "cell_type": "code",
   "execution_count": null,
   "metadata": {},
   "outputs": [],
   "source": [
    "%%time\n",
    "predicted = cbow_recsys.predict(test) # let's test only on a couple of elements"
   ]
  },
  {
   "cell_type": "code",
   "execution_count": null,
   "metadata": {},
   "outputs": [],
   "source": []
  }
 ],
 "metadata": {
  "kernelspec": {
   "display_name": ".venv",
   "language": "python",
   "name": "python3"
  },
  "language_info": {
   "codemirror_mode": {
    "name": "ipython",
    "version": 3
   },
   "file_extension": ".py",
   "mimetype": "text/x-python",
   "name": "python",
   "nbconvert_exporter": "python",
   "pygments_lexer": "ipython3",
   "version": "3.9.6"
  },
  "orig_nbformat": 4
 },
 "nbformat": 4,
 "nbformat_minor": 2
}
